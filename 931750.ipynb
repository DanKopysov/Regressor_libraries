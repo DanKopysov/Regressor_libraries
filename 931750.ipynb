{
 "cells": [
  {
   "cell_type": "markdown",
   "metadata": {},
   "source": [
    "Regression Task\n",
    "\n",
    "Author: Danil Kopysov (10742374)\n",
    "\n",
    "\n",
    "In this script there are all of the steps I have made to prepare the solution. The code is splited into several sections:\n",
    "- Data Import and preparation\n",
    "- Variables transformation\n",
    "- Division into subsets and preparation for regression\n",
    "- OLS\n",
    "- Ridge\n",
    "- Lasso\n",
    "- Tree\n",
    "- Random forest\n",
    "- SVR\n",
    "\n",
    "The most effective in terms of MAE measure is the Random Forest model. So, it would be the main algorithm for further work."
   ]
  },
  {
   "cell_type": "code",
   "execution_count": 4,
   "metadata": {},
   "outputs": [
    {
     "data": {
      "text/html": [
       "<div>\n",
       "<style scoped>\n",
       "    .dataframe tbody tr th:only-of-type {\n",
       "        vertical-align: middle;\n",
       "    }\n",
       "\n",
       "    .dataframe tbody tr th {\n",
       "        vertical-align: top;\n",
       "    }\n",
       "\n",
       "    .dataframe thead th {\n",
       "        text-align: right;\n",
       "    }\n",
       "</style>\n",
       "<table border=\"1\" class=\"dataframe\">\n",
       "  <thead>\n",
       "    <tr style=\"text-align: right;\">\n",
       "      <th></th>\n",
       "      <th>dteday</th>\n",
       "      <th>hr</th>\n",
       "      <th>holiday</th>\n",
       "      <th>weekday</th>\n",
       "      <th>workingday</th>\n",
       "      <th>season_t</th>\n",
       "      <th>weather</th>\n",
       "      <th>temperature</th>\n",
       "      <th>s_temp</th>\n",
       "      <th>humidity</th>\n",
       "      <th>winds</th>\n",
       "      <th>n_employee</th>\n",
       "      <th>exp_employee</th>\n",
       "      <th>occupancy</th>\n",
       "    </tr>\n",
       "  </thead>\n",
       "  <tbody>\n",
       "    <tr>\n",
       "      <td>0</td>\n",
       "      <td>2011-05-19</td>\n",
       "      <td>1</td>\n",
       "      <td>0</td>\n",
       "      <td>4</td>\n",
       "      <td>1</td>\n",
       "      <td>summer</td>\n",
       "      <td>Clear</td>\n",
       "      <td>20.50</td>\n",
       "      <td>24.240</td>\n",
       "      <td>94</td>\n",
       "      <td>0.0</td>\n",
       "      <td>2.67</td>\n",
       "      <td>9.29</td>\n",
       "      <td>6</td>\n",
       "    </tr>\n",
       "    <tr>\n",
       "      <td>1</td>\n",
       "      <td>2012-08-19</td>\n",
       "      <td>18</td>\n",
       "      <td>0</td>\n",
       "      <td>0</td>\n",
       "      <td>0</td>\n",
       "      <td>fall</td>\n",
       "      <td>Cloudy</td>\n",
       "      <td>26.24</td>\n",
       "      <td>29.545</td>\n",
       "      <td>78</td>\n",
       "      <td>7.0</td>\n",
       "      <td>2.67</td>\n",
       "      <td>3.57</td>\n",
       "      <td>377</td>\n",
       "    </tr>\n",
       "    <tr>\n",
       "      <td>2</td>\n",
       "      <td>2011-09-24</td>\n",
       "      <td>8</td>\n",
       "      <td>0</td>\n",
       "      <td>6</td>\n",
       "      <td>0</td>\n",
       "      <td>winter</td>\n",
       "      <td>Cloudy</td>\n",
       "      <td>23.78</td>\n",
       "      <td>27.275</td>\n",
       "      <td>90</td>\n",
       "      <td>6.0</td>\n",
       "      <td>2.67</td>\n",
       "      <td>28.00</td>\n",
       "      <td>121</td>\n",
       "    </tr>\n",
       "    <tr>\n",
       "      <td>3</td>\n",
       "      <td>2012-11-05</td>\n",
       "      <td>4</td>\n",
       "      <td>0</td>\n",
       "      <td>1</td>\n",
       "      <td>1</td>\n",
       "      <td>winter</td>\n",
       "      <td>Cloudy</td>\n",
       "      <td>12.30</td>\n",
       "      <td>14.395</td>\n",
       "      <td>52</td>\n",
       "      <td>17.0</td>\n",
       "      <td>2.67</td>\n",
       "      <td>4.57</td>\n",
       "      <td>16</td>\n",
       "    </tr>\n",
       "    <tr>\n",
       "      <td>4</td>\n",
       "      <td>2011-11-12</td>\n",
       "      <td>0</td>\n",
       "      <td>0</td>\n",
       "      <td>6</td>\n",
       "      <td>0</td>\n",
       "      <td>winter</td>\n",
       "      <td>Clear</td>\n",
       "      <td>9.84</td>\n",
       "      <td>12.120</td>\n",
       "      <td>60</td>\n",
       "      <td>9.0</td>\n",
       "      <td>1.67</td>\n",
       "      <td>7.57</td>\n",
       "      <td>64</td>\n",
       "    </tr>\n",
       "  </tbody>\n",
       "</table>\n",
       "</div>"
      ],
      "text/plain": [
       "       dteday  hr  holiday  weekday  workingday season_t weather  temperature  \\\n",
       "0  2011-05-19   1        0        4           1   summer   Clear        20.50   \n",
       "1  2012-08-19  18        0        0           0     fall  Cloudy        26.24   \n",
       "2  2011-09-24   8        0        6           0   winter  Cloudy        23.78   \n",
       "3  2012-11-05   4        0        1           1   winter  Cloudy        12.30   \n",
       "4  2011-11-12   0        0        6           0   winter   Clear         9.84   \n",
       "\n",
       "   s_temp  humidity  winds  n_employee  exp_employee  occupancy  \n",
       "0  24.240        94    0.0        2.67          9.29          6  \n",
       "1  29.545        78    7.0        2.67          3.57        377  \n",
       "2  27.275        90    6.0        2.67         28.00        121  \n",
       "3  14.395        52   17.0        2.67          4.57         16  \n",
       "4  12.120        60    9.0        1.67          7.57         64  "
      ]
     },
     "execution_count": 4,
     "metadata": {},
     "output_type": "execute_result"
    }
   ],
   "source": [
    "import pandas as pd\n",
    "data = pd.read_csv('train2.csv')\n",
    "del data['Unnamed: 0']\n",
    "data.head(5)"
   ]
  },
  {
   "cell_type": "code",
   "execution_count": 5,
   "metadata": {
    "scrolled": true
   },
   "outputs": [
    {
     "name": "stdout",
     "output_type": "stream",
     "text": [
      "dteday          0\n",
      "hr              0\n",
      "holiday         0\n",
      "weekday         0\n",
      "workingday      0\n",
      "season_t        0\n",
      "weather         0\n",
      "temperature     0\n",
      "s_temp          0\n",
      "humidity        0\n",
      "winds           0\n",
      "n_employee      0\n",
      "exp_employee    0\n",
      "occupancy       0\n",
      "dtype: int64\n"
     ]
    }
   ],
   "source": [
    "#Amount of NaNs by variables\n",
    "print(data.isna().sum())"
   ]
  },
  {
   "cell_type": "code",
   "execution_count": 6,
   "metadata": {},
   "outputs": [],
   "source": [
    "#Transformation of date into day, month and year\n",
    "year=[]\n",
    "for i in range(0, len(data['dteday'])):\n",
    "    year.append(int(data['dteday'][i][0:4]))\n",
    "year=pd.Series(year)\n",
    "    \n",
    "month = []\n",
    "for i in range(0, len(data['dteday'])):\n",
    "    month.append(int(data['dteday'][i][5:7]))\n",
    "month=pd.Series(month)\n",
    "    \n",
    "day = []    \n",
    "for i in range(0, len(data['dteday'])):\n",
    "    day.append(int(data['dteday'][i][8:10]))\n",
    "day=pd.Series(day)"
   ]
  },
  {
   "cell_type": "code",
   "execution_count": 7,
   "metadata": {},
   "outputs": [],
   "source": [
    "#Merging and sanity check\n",
    "date_new = pd.concat([day, month, year], join = 'inner', axis = 1)\n",
    "date_new.columns = ['day', 'month', 'year']\n",
    "\n",
    "date_new1 = pd.merge(date_new, data['dteday'], right_index = True, left_index = True)"
   ]
  },
  {
   "cell_type": "code",
   "execution_count": 8,
   "metadata": {},
   "outputs": [],
   "source": [
    "data_cor =pd.merge(data, date_new, left_index = True, right_index = True)\n",
    "#data_cor"
   ]
  },
  {
   "cell_type": "code",
   "execution_count": 9,
   "metadata": {},
   "outputs": [],
   "source": [
    "#Transformation of date into ordinal values\n",
    "data_cor['date_ord'] = pd.to_datetime(data['dteday']).apply(lambda dteday: dteday.toordinal())\n",
    "#data_cor"
   ]
  },
  {
   "cell_type": "code",
   "execution_count": 10,
   "metadata": {},
   "outputs": [
    {
     "data": {
      "image/png": "[encoded data removed]",
      "text/plain": [
       "<Figure size 720x720 with 2 Axes>"
      ]
     },
     "metadata": {
      "needs_background": "light"
     },
     "output_type": "display_data"
    }
   ],
   "source": [
    "#correlation matrix\n",
    "data_cor.corr().round(2)\n",
    "import matplotlib.pyplot as plt\n",
    "import seaborn as sns\n",
    "%matplotlib inline\n",
    "\n",
    "plt.figure(figsize = (10,10))\n",
    "sns.heatmap(data=data_cor.corr().round(2), cmap='coolwarm', linewidths=.5, annot=True, annot_kws={\"size\":12})\n",
    "plt.show()"
   ]
  },
  {
   "cell_type": "code",
   "execution_count": 11,
   "metadata": {},
   "outputs": [
    {
     "data": {
      "text/plain": [
       "<seaborn.axisgrid.PairGrid at 0x24227b7fb48>"
      ]
     },
     "execution_count": 11,
     "metadata": {},
     "output_type": "execute_result"
    },
    {
     "data": {
      "image/png": "[encoded data removed]",
      "text/plain": [
       "<Figure size 2340x180 with 13 Axes>"
      ]
     },
     "metadata": {
      "needs_background": "light"
     },
     "output_type": "display_data"
    }
   ],
   "source": [
    "# visualize the relationship between the features and the response using scatterplots\n",
    "%matplotlib inline\n",
    "import seaborn as sns\n",
    "sns.pairplot(data_cor, x_vars=list(data)[:-1], y_vars='occupancy')"
   ]
  },
  {
   "cell_type": "code",
   "execution_count": 12,
   "metadata": {},
   "outputs": [
    {
     "data": {
      "text/plain": [
       "array([[<matplotlib.axes._subplots.AxesSubplot object at 0x00000242294EB908>,\n",
       "        <matplotlib.axes._subplots.AxesSubplot object at 0x0000024229533048>,\n",
       "        <matplotlib.axes._subplots.AxesSubplot object at 0x00000242294FF348>,\n",
       "        <matplotlib.axes._subplots.AxesSubplot object at 0x0000024229730D48>],\n",
       "       [<matplotlib.axes._subplots.AxesSubplot object at 0x000002422980D788>,\n",
       "        <matplotlib.axes._subplots.AxesSubplot object at 0x0000024229789188>,\n",
       "        <matplotlib.axes._subplots.AxesSubplot object at 0x00000242299D60C8>,\n",
       "        <matplotlib.axes._subplots.AxesSubplot object at 0x0000024229A10208>],\n",
       "       [<matplotlib.axes._subplots.AxesSubplot object at 0x0000024229A16DC8>,\n",
       "        <matplotlib.axes._subplots.AxesSubplot object at 0x0000024229A4DF88>,\n",
       "        <matplotlib.axes._subplots.AxesSubplot object at 0x0000024229AB9548>,\n",
       "        <matplotlib.axes._subplots.AxesSubplot object at 0x0000024229AF25C8>],\n",
       "       [<matplotlib.axes._subplots.AxesSubplot object at 0x0000024229B286C8>,\n",
       "        <matplotlib.axes._subplots.AxesSubplot object at 0x0000024229B62808>,\n",
       "        <matplotlib.axes._subplots.AxesSubplot object at 0x0000024229B9B908>,\n",
       "        <matplotlib.axes._subplots.AxesSubplot object at 0x0000024229BD8A08>]],\n",
       "      dtype=object)"
      ]
     },
     "execution_count": 12,
     "metadata": {},
     "output_type": "execute_result"
    },
    {
     "data": {
      "image/png": "[encoded data removed]",
      "text/plain": [
       "<Figure size 432x288 with 16 Axes>"
      ]
     },
     "metadata": {
      "needs_background": "light"
     },
     "output_type": "display_data"
    }
   ],
   "source": [
    "#distributions\n",
    "data_cor.hist()"
   ]
  },
  {
   "cell_type": "code",
   "execution_count": 13,
   "metadata": {},
   "outputs": [
    {
     "data": {
      "text/html": [
       "<div>\n",
       "<style scoped>\n",
       "    .dataframe tbody tr th:only-of-type {\n",
       "        vertical-align: middle;\n",
       "    }\n",
       "\n",
       "    .dataframe tbody tr th {\n",
       "        vertical-align: top;\n",
       "    }\n",
       "\n",
       "    .dataframe thead th {\n",
       "        text-align: right;\n",
       "    }\n",
       "</style>\n",
       "<table border=\"1\" class=\"dataframe\">\n",
       "  <thead>\n",
       "    <tr style=\"text-align: right;\">\n",
       "      <th></th>\n",
       "      <th>temperature_sc</th>\n",
       "      <th>s_temp_sc</th>\n",
       "      <th>humidity_sc</th>\n",
       "      <th>winds_sc</th>\n",
       "      <th>n_employee_sc</th>\n",
       "      <th>exp_employee_sc</th>\n",
       "    </tr>\n",
       "  </thead>\n",
       "  <tbody>\n",
       "    <tr>\n",
       "      <td>temperature_sc</td>\n",
       "      <td>1.000000</td>\n",
       "      <td>0.989680</td>\n",
       "      <td>-0.075741</td>\n",
       "      <td>-0.022414</td>\n",
       "      <td>-0.013608</td>\n",
       "      <td>-0.027093</td>\n",
       "    </tr>\n",
       "    <tr>\n",
       "      <td>s_temp_sc</td>\n",
       "      <td>0.989680</td>\n",
       "      <td>1.000000</td>\n",
       "      <td>-0.060052</td>\n",
       "      <td>-0.060224</td>\n",
       "      <td>-0.013551</td>\n",
       "      <td>-0.026548</td>\n",
       "    </tr>\n",
       "    <tr>\n",
       "      <td>humidity_sc</td>\n",
       "      <td>-0.075741</td>\n",
       "      <td>-0.060052</td>\n",
       "      <td>1.000000</td>\n",
       "      <td>-0.295253</td>\n",
       "      <td>-0.013365</td>\n",
       "      <td>0.000306</td>\n",
       "    </tr>\n",
       "    <tr>\n",
       "      <td>winds_sc</td>\n",
       "      <td>-0.022414</td>\n",
       "      <td>-0.060224</td>\n",
       "      <td>-0.295253</td>\n",
       "      <td>1.000000</td>\n",
       "      <td>0.006372</td>\n",
       "      <td>0.010031</td>\n",
       "    </tr>\n",
       "    <tr>\n",
       "      <td>n_employee_sc</td>\n",
       "      <td>-0.013608</td>\n",
       "      <td>-0.013551</td>\n",
       "      <td>-0.013365</td>\n",
       "      <td>0.006372</td>\n",
       "      <td>1.000000</td>\n",
       "      <td>-0.013474</td>\n",
       "    </tr>\n",
       "    <tr>\n",
       "      <td>exp_employee_sc</td>\n",
       "      <td>-0.027093</td>\n",
       "      <td>-0.026548</td>\n",
       "      <td>0.000306</td>\n",
       "      <td>0.010031</td>\n",
       "      <td>-0.013474</td>\n",
       "      <td>1.000000</td>\n",
       "    </tr>\n",
       "  </tbody>\n",
       "</table>\n",
       "</div>"
      ],
      "text/plain": [
       "                 temperature_sc  s_temp_sc  humidity_sc  winds_sc  \\\n",
       "temperature_sc         1.000000   0.989680    -0.075741 -0.022414   \n",
       "s_temp_sc              0.989680   1.000000    -0.060052 -0.060224   \n",
       "humidity_sc           -0.075741  -0.060052     1.000000 -0.295253   \n",
       "winds_sc              -0.022414  -0.060224    -0.295253  1.000000   \n",
       "n_employee_sc         -0.013608  -0.013551    -0.013365  0.006372   \n",
       "exp_employee_sc       -0.027093  -0.026548     0.000306  0.010031   \n",
       "\n",
       "                 n_employee_sc  exp_employee_sc  \n",
       "temperature_sc       -0.013608        -0.027093  \n",
       "s_temp_sc            -0.013551        -0.026548  \n",
       "humidity_sc          -0.013365         0.000306  \n",
       "winds_sc              0.006372         0.010031  \n",
       "n_employee_sc         1.000000        -0.013474  \n",
       "exp_employee_sc      -0.013474         1.000000  "
      ]
     },
     "execution_count": 13,
     "metadata": {},
     "output_type": "execute_result"
    }
   ],
   "source": [
    "#Numerical vars standartization\n",
    "num_var = [\n",
    " 'temperature',\n",
    " 's_temp',\n",
    " 'humidity',\n",
    " 'winds',\n",
    " 'n_employee',\n",
    " 'exp_employee']\n",
    "from sklearn.preprocessing import StandardScaler\n",
    "scaler = StandardScaler().fit(data_cor[num_var]) \n",
    "scaled_data_num = pd.DataFrame(scaler.transform(data_cor[num_var]))\n",
    "scaled_data_num.columns = ['temperature_sc', 's_temp_sc',  'humidity_sc', 'winds_sc', 'n_employee_sc', 'exp_employee_sc']\n",
    "scaled_data_num.apply(lambda s: scaled_data_num.corrwith(s))\n"
   ]
  },
  {
   "cell_type": "code",
   "execution_count": 14,
   "metadata": {},
   "outputs": [
    {
     "data": {
      "text/html": [
       "<div>\n",
       "<style scoped>\n",
       "    .dataframe tbody tr th:only-of-type {\n",
       "        vertical-align: middle;\n",
       "    }\n",
       "\n",
       "    .dataframe tbody tr th {\n",
       "        vertical-align: top;\n",
       "    }\n",
       "\n",
       "    .dataframe thead th {\n",
       "        text-align: right;\n",
       "    }\n",
       "</style>\n",
       "<table border=\"1\" class=\"dataframe\">\n",
       "  <thead>\n",
       "    <tr style=\"text-align: right;\">\n",
       "      <th></th>\n",
       "      <th>0</th>\n",
       "      <th>1</th>\n",
       "      <th>2</th>\n",
       "      <th>3</th>\n",
       "      <th>4</th>\n",
       "      <th>5</th>\n",
       "    </tr>\n",
       "  </thead>\n",
       "  <tbody>\n",
       "    <tr>\n",
       "      <td>0</td>\n",
       "      <td>0.333609</td>\n",
       "      <td>0.215957</td>\n",
       "      <td>0.168897</td>\n",
       "      <td>0.164021</td>\n",
       "      <td>0.115918</td>\n",
       "      <td>0.001598</td>\n",
       "    </tr>\n",
       "  </tbody>\n",
       "</table>\n",
       "</div>"
      ],
      "text/plain": [
       "          0         1         2         3         4         5\n",
       "0  0.333609  0.215957  0.168897  0.164021  0.115918  0.001598"
      ]
     },
     "execution_count": 14,
     "metadata": {},
     "output_type": "execute_result"
    }
   ],
   "source": [
    "#PCA\n",
    "from sklearn.decomposition import PCA\n",
    "pca2 = PCA()\n",
    "pca2.fit(scaled_data_num) \n",
    "df_pca = pd.DataFrame(pca2.transform(scaled_data_num))\n",
    "explained_var=pd.DataFrame(pca2.explained_variance_ratio_).transpose()\n",
    "explained_var"
   ]
  },
  {
   "cell_type": "code",
   "execution_count": 15,
   "metadata": {},
   "outputs": [
    {
     "data": {
      "image/png": "[encoded data removed]",
      "text/plain": [
       "<Figure size 432x288 with 1 Axes>"
      ]
     },
     "metadata": {
      "needs_background": "light"
     },
     "output_type": "display_data"
    }
   ],
   "source": [
    "%matplotlib inline\n",
    "import seaborn as sns\n",
    "ax = sns.barplot( data=explained_var)"
   ]
  },
  {
   "cell_type": "markdown",
   "metadata": {},
   "source": [
    "## Variables transformation"
   ]
  },
  {
   "cell_type": "code",
   "execution_count": 16,
   "metadata": {},
   "outputs": [],
   "source": [
    "data_bin = data_cor[['hr', 'weekday', 'season_t', 'weather', 'day', 'month', 'year']].copy()"
   ]
  },
  {
   "cell_type": "code",
   "execution_count": 17,
   "metadata": {},
   "outputs": [
    {
     "name": "stderr",
     "output_type": "stream",
     "text": [
      "C:\\Users\\xiaomi\\Anaconda3\\lib\\site-packages\\pandas\\core\\indexing.py:205: SettingWithCopyWarning: \n",
      "A value is trying to be set on a copy of a slice from a DataFrame\n",
      "\n",
      "See the caveats in the documentation: http://pandas.pydata.org/pandas-docs/stable/user_guide/indexing.html#returning-a-view-versus-a-copy\n",
      "  self._setitem_with_indexer(indexer, value)\n"
     ]
    }
   ],
   "source": [
    "#categories binning\n",
    "import pandas as pd\n",
    "import numpy as np\n",
    " \n",
    "#binning hours\n",
    "bin_hrs = [-1,6,12,18,24]\n",
    "category_hr = pd.cut(data_bin.hr, bin_hrs, labels = ['0-6', '7-12', '13-18', '19-23'])\n",
    "category_hr = category_hr.to_frame()\n",
    "category_hr.columns = ['hours']\n",
    "\n",
    "#binning days\n",
    "bin_days = [0, 11, 21, 31]\n",
    "category_day = pd.cut(data_bin.day, bin_days, labels = ['week1', 'week2', 'week3']).to_frame() \n",
    "category_day.columns = ['day']\n",
    "\n",
    "#reducing weather\n",
    "data_bin.weather.loc[(data_bin.weather == 'Snow')] = 'Osadki'\n",
    "data_bin.weather.loc[(data_bin.weather == 'LightRain')] = 'Osadki'\n",
    "\n",
    "#sanity check\n",
    "df_check = pd.concat([data_bin['hr'], category_hr, data_bin['day'], category_day, ], axis = 1)"
   ]
  },
  {
   "cell_type": "code",
   "execution_count": 18,
   "metadata": {},
   "outputs": [
    {
     "data": {
      "text/html": [
       "<div>\n",
       "<style scoped>\n",
       "    .dataframe tbody tr th:only-of-type {\n",
       "        vertical-align: middle;\n",
       "    }\n",
       "\n",
       "    .dataframe tbody tr th {\n",
       "        vertical-align: top;\n",
       "    }\n",
       "\n",
       "    .dataframe thead th {\n",
       "        text-align: right;\n",
       "    }\n",
       "</style>\n",
       "<table border=\"1\" class=\"dataframe\">\n",
       "  <thead>\n",
       "    <tr style=\"text-align: right;\">\n",
       "      <th></th>\n",
       "      <th>hours</th>\n",
       "      <th>day</th>\n",
       "      <th>month</th>\n",
       "      <th>year</th>\n",
       "      <th>weekday</th>\n",
       "      <th>weather</th>\n",
       "      <th>season_t</th>\n",
       "      <th>hr</th>\n",
       "    </tr>\n",
       "  </thead>\n",
       "  <tbody>\n",
       "    <tr>\n",
       "      <td>0</td>\n",
       "      <td>0-6</td>\n",
       "      <td>week2</td>\n",
       "      <td>5</td>\n",
       "      <td>2011</td>\n",
       "      <td>4</td>\n",
       "      <td>Clear</td>\n",
       "      <td>summer</td>\n",
       "      <td>1</td>\n",
       "    </tr>\n",
       "    <tr>\n",
       "      <td>1</td>\n",
       "      <td>13-18</td>\n",
       "      <td>week2</td>\n",
       "      <td>8</td>\n",
       "      <td>2012</td>\n",
       "      <td>0</td>\n",
       "      <td>Cloudy</td>\n",
       "      <td>fall</td>\n",
       "      <td>18</td>\n",
       "    </tr>\n",
       "    <tr>\n",
       "      <td>2</td>\n",
       "      <td>7-12</td>\n",
       "      <td>week3</td>\n",
       "      <td>9</td>\n",
       "      <td>2011</td>\n",
       "      <td>6</td>\n",
       "      <td>Cloudy</td>\n",
       "      <td>winter</td>\n",
       "      <td>8</td>\n",
       "    </tr>\n",
       "    <tr>\n",
       "      <td>3</td>\n",
       "      <td>0-6</td>\n",
       "      <td>week1</td>\n",
       "      <td>11</td>\n",
       "      <td>2012</td>\n",
       "      <td>1</td>\n",
       "      <td>Cloudy</td>\n",
       "      <td>winter</td>\n",
       "      <td>4</td>\n",
       "    </tr>\n",
       "    <tr>\n",
       "      <td>4</td>\n",
       "      <td>0-6</td>\n",
       "      <td>week2</td>\n",
       "      <td>11</td>\n",
       "      <td>2011</td>\n",
       "      <td>6</td>\n",
       "      <td>Clear</td>\n",
       "      <td>winter</td>\n",
       "      <td>0</td>\n",
       "    </tr>\n",
       "  </tbody>\n",
       "</table>\n",
       "</div>"
      ],
      "text/plain": [
       "   hours    day  month  year  weekday weather season_t  hr\n",
       "0    0-6  week2      5  2011        4   Clear   summer   1\n",
       "1  13-18  week2      8  2012        0  Cloudy     fall  18\n",
       "2   7-12  week3      9  2011        6  Cloudy   winter   8\n",
       "3    0-6  week1     11  2012        1  Cloudy   winter   4\n",
       "4    0-6  week2     11  2011        6   Clear   winter   0"
      ]
     },
     "execution_count": 18,
     "metadata": {},
     "output_type": "execute_result"
    }
   ],
   "source": [
    "data_bin_conc = pd.concat([category_hr, category_day, data_bin[['month', 'year', 'weekday', 'weather','season_t']], \n",
    "                           data_cor['hr']], axis = 1)\n",
    "data_bin_conc.head()"
   ]
  },
  {
   "cell_type": "code",
   "execution_count": 19,
   "metadata": {},
   "outputs": [
    {
     "data": {
      "text/plain": [
       "(10427, 59)"
      ]
     },
     "execution_count": 19,
     "metadata": {},
     "output_type": "execute_result"
    }
   ],
   "source": [
    "# Transformation to dummies - a lot of variables\n",
    "data_bin2 = pd.get_dummies(data_bin_conc, columns=['hours', 'day', 'month', 'year', 'weekday', 'weather', 'season_t', 'hr'], \n",
    "                          prefix = ['hours', 'day', 'month', 'year', 'weekday', 'weather', 'season_t', 'hr'])\n",
    "data_bin2.shape"
   ]
  },
  {
   "cell_type": "code",
   "execution_count": 20,
   "metadata": {},
   "outputs": [
    {
     "data": {
      "text/plain": [
       "['temperature',\n",
       " 'humidity',\n",
       " 'winds',\n",
       " 'n_employee',\n",
       " 'exp_employee',\n",
       " 'date_ord',\n",
       " 'hours_0-6',\n",
       " 'hours_7-12',\n",
       " 'hours_13-18',\n",
       " 'hours_19-23',\n",
       " 'day_week1',\n",
       " 'day_week2',\n",
       " 'day_week3',\n",
       " 'month_1',\n",
       " 'month_2',\n",
       " 'month_3',\n",
       " 'month_4',\n",
       " 'month_5',\n",
       " 'month_6',\n",
       " 'month_7',\n",
       " 'month_8',\n",
       " 'month_9',\n",
       " 'month_10',\n",
       " 'month_11',\n",
       " 'month_12',\n",
       " 'year_2011',\n",
       " 'year_2012',\n",
       " 'weekday_0',\n",
       " 'weekday_1',\n",
       " 'weekday_2',\n",
       " 'weekday_3',\n",
       " 'weekday_4',\n",
       " 'weekday_5',\n",
       " 'weekday_6',\n",
       " 'weather_Clear',\n",
       " 'weather_Cloudy',\n",
       " 'weather_Osadki',\n",
       " 'season_t_fall',\n",
       " 'season_t_spring',\n",
       " 'season_t_summer',\n",
       " 'season_t_winter',\n",
       " 'hr_0',\n",
       " 'hr_1',\n",
       " 'hr_2',\n",
       " 'hr_3',\n",
       " 'hr_4',\n",
       " 'hr_5',\n",
       " 'hr_6',\n",
       " 'hr_7',\n",
       " 'hr_8',\n",
       " 'hr_9',\n",
       " 'hr_10',\n",
       " 'hr_11',\n",
       " 'hr_12',\n",
       " 'hr_13',\n",
       " 'hr_14',\n",
       " 'hr_15',\n",
       " 'hr_16',\n",
       " 'hr_17',\n",
       " 'hr_18',\n",
       " 'hr_19',\n",
       " 'hr_20',\n",
       " 'hr_21',\n",
       " 'hr_22',\n",
       " 'hr_23',\n",
       " 'workingday',\n",
       " 'holiday',\n",
       " 'hr',\n",
       " 'day',\n",
       " 'month',\n",
       " 'temperature_sc',\n",
       " 's_temp_sc',\n",
       " 'humidity_sc',\n",
       " 'winds_sc',\n",
       " 'n_employee_sc',\n",
       " 'exp_employee_sc',\n",
       " 'occupancy']"
      ]
     },
     "execution_count": 20,
     "metadata": {},
     "output_type": "execute_result"
    }
   ],
   "source": [
    "#concat all of the data\n",
    "final = pd.concat([data_cor[['temperature', 'humidity', 'winds', 'n_employee', 'exp_employee', 'date_ord']], data_bin2, data[['workingday', 'holiday', 'hr']],\n",
    "                   data_cor[['day', 'month']], \n",
    "                   scaled_data_num[['temperature_sc', 's_temp_sc',  'humidity_sc', 'winds_sc', 'n_employee_sc', 'exp_employee_sc']],\n",
    "                   data['occupancy']], axis = 1)\n",
    "list(final)\n"
   ]
  },
  {
   "cell_type": "markdown",
   "metadata": {},
   "source": [
    "## OLS"
   ]
  },
  {
   "cell_type": "code",
   "execution_count": 71,
   "metadata": {},
   "outputs": [],
   "source": [
    "X=final.loc[:,\n",
    " ['temperature',\n",
    " 'humidity',\n",
    " 'winds',\n",
    " #'n_employee',\n",
    " #'exp_employee',\n",
    " 'date_ord',\n",
    " #'hours_0-6',\n",
    " #'hours_7-12',\n",
    " #'hours_13-18',\n",
    " #'hours_19-23',\n",
    " #'day_week1',\n",
    " #'day_week2',\n",
    " #'day_week3',\n",
    " #'month_1',\n",
    " ##'month_2',\n",
    " #'month_3',\n",
    " #'month_4',\n",
    " ##'month_5',\n",
    " #'month_6',\n",
    " #'month_7',\n",
    " #'month_8',\n",
    " #'month_9',\n",
    " #'month_10',\n",
    " #'month_11',\n",
    " #'month_12',\n",
    " #'year_2011',\n",
    " #'year_2012',\n",
    " #'weekday_0',\n",
    " #'weekday_1',\n",
    " #'weekday_2',\n",
    " #'weekday_3',\n",
    " #'weekday_4',\n",
    " #'weekday_5',\n",
    " #'weekday_6',\n",
    " 'weather_Clear',\n",
    " 'weather_Cloudy',\n",
    " 'weather_Osadki',\n",
    " 'season_t_fall',\n",
    " 'season_t_spring',\n",
    " 'season_t_summer',\n",
    " 'season_t_winter',\n",
    " 'hr_0',\n",
    " 'hr_1',\n",
    " 'hr_2',\n",
    " 'hr_3',\n",
    " 'hr_4',\n",
    " 'hr_5',\n",
    " 'hr_6',\n",
    " 'hr_7',\n",
    " 'hr_8',\n",
    " 'hr_9',\n",
    " 'hr_10',\n",
    " 'hr_11',\n",
    " 'hr_12',\n",
    " 'hr_13',\n",
    " 'hr_14',\n",
    " 'hr_15',\n",
    " 'hr_16',\n",
    " 'hr_17',\n",
    " 'hr_18',\n",
    " 'hr_19',\n",
    " 'hr_20',\n",
    " 'hr_21',\n",
    " 'hr_22',\n",
    " 'hr_23',\n",
    " #'workingday',\n",
    " 'holiday',\n",
    " #'hr',\n",
    " #'day',\n",
    " #'month',\n",
    " #'temperature_sc',\n",
    " #'s_temp_sc',\n",
    " #'humidity_sc',\n",
    " #'winds_sc',\n",
    " #'n_employee_sc',\n",
    " #'exp_employee_sc'\n",
    " ]           \n",
    "           ]\n",
    "y = final.loc[:,['occupancy']]"
   ]
  },
  {
   "cell_type": "code",
   "execution_count": 72,
   "metadata": {},
   "outputs": [],
   "source": [
    "from sklearn.model_selection import train_test_split\n",
    "import numpy as np\n",
    "X_train, X_test, y_train, y_test = train_test_split(X,y,\n",
    "                                                    test_size=0.3,\n",
    "                                                    random_state=123)"
   ]
  },
  {
   "cell_type": "code",
   "execution_count": 73,
   "metadata": {},
   "outputs": [
    {
     "name": "stdout",
     "output_type": "stream",
     "text": [
      "***GRIDSEARCH RESULTS***\n",
      "Best score: 0.668683 using {}\n",
      "0.668683 (0.007220) with: {}\n"
     ]
    },
    {
     "data": {
      "text/plain": [
       "0.6849784809697053"
      ]
     },
     "execution_count": 73,
     "metadata": {},
     "output_type": "execute_result"
    }
   ],
   "source": [
    "from sklearn.linear_model import LinearRegression\n",
    "import numpy as np\n",
    "\n",
    "regressor = LinearRegression() \n",
    "parameters = {}\n",
    "\n",
    "\n",
    "from sklearn.model_selection import GridSearchCV\n",
    "gs = GridSearchCV(regressor, parameters,cv=3)\n",
    "\n",
    "gs = gs.fit(X_train,y_train)\n",
    "\n",
    "\n",
    "print('***GRIDSEARCH RESULTS***')\n",
    "print(\"Best score: %f using %s\" % (gs.best_score_, gs.best_params_))\n",
    "means = gs.cv_results_['mean_test_score']\n",
    "stds = gs.cv_results_['std_test_score']\n",
    "params = gs.cv_results_['params']\n",
    "for mean, stdev, param in zip(means, stds, params):\n",
    "    print(\"%f (%f) with: %r\" % (mean, stdev, param))\n",
    "\n",
    "#test on hold-out\n",
    "\n",
    "gs.score(X_train, y_train)\n",
    "gs.score(X_test, y_test)"
   ]
  },
  {
   "cell_type": "code",
   "execution_count": 67,
   "metadata": {},
   "outputs": [
    {
     "name": "stdout",
     "output_type": "stream",
     "text": [
      "MAE train:  76.9850855017401\n",
      "MSE train:  11027.295667837865\n",
      "RMSE train:  105.01093118260529\n",
      "r2:  0.8206779402119796\n",
      "MAE test:  75.23656495076926\n",
      "MSE test:  10363.806426856514\n",
      "RMSE test:  101.80278201923812\n",
      "r2:  0.6849784809697053\n"
     ]
    }
   ],
   "source": [
    "from sklearn import metrics\n",
    "\n",
    "print(\"MAE train: \", metrics.mean_absolute_error(y_train, gs.predict(X_train))) \n",
    "print(\"MSE train: \",metrics.mean_squared_error(y_train, gs.predict(X_train)))\n",
    "print(\"RMSE train: \",np.sqrt(metrics.mean_squared_error(y_train, gs.predict(X_train))))\n",
    "print(\"r2: \",np.sqrt(metrics.r2_score(y_train, gs.predict(X_train))))\n",
    "\n",
    "print(\"MAE test: \", metrics.mean_absolute_error(y_test, gs.predict(X_test))) \n",
    "print(\"MSE test: \",metrics.mean_squared_error(y_test, gs.predict(X_test)))\n",
    "print(\"RMSE test: \",np.sqrt(metrics.mean_squared_error(y_test, gs.predict(X_test))))\n",
    "print(\"r2: \",metrics.r2_score(y_test, gs.predict(X_test)))"
   ]
  },
  {
   "cell_type": "code",
   "execution_count": 79,
   "metadata": {},
   "outputs": [
    {
     "data": {
      "image/png": "[encoded data removed]",
      "text/plain": [
       "<Figure size 432x288 with 1 Axes>"
      ]
     },
     "metadata": {
      "needs_background": "light"
     },
     "output_type": "display_data"
    }
   ],
   "source": [
    "plt.scatter(gs.predict(X_train),error_train, c=\"b\", label=\"training data\")\n",
    "plt.scatter(gs.predict(X_test),error_test, c=\"g\", label=\"test data\")\n",
    "plt.xlabel(\"Predicted Values\")\n",
    "plt.ylabel(\"Residuals\")\n",
    "plt.legend(loc=\"upper left\")\n",
    "plt.hlines(y=0, xmin=-10, xmax=50, color=\"r\")\n",
    "plt.xlim([-10,500])\n",
    "\n",
    "plt.show()"
   ]
  },
  {
   "cell_type": "code",
   "execution_count": 78,
   "metadata": {},
   "outputs": [],
   "source": [
    "error_train=gs.predict(X_train)- y_train\n",
    "error_test=gs.predict(X_test)- y_test\n"
   ]
  },
  {
   "cell_type": "code",
   "execution_count": 75,
   "metadata": {},
   "outputs": [
    {
     "data": {
      "image/png": "[encoded data removed]",
      "text/plain": [
       "<Figure size 432x288 with 1 Axes>"
      ]
     },
     "metadata": {
      "needs_background": "light"
     },
     "output_type": "display_data"
    }
   ],
   "source": [
    "error_train = np.array(error_train).reshape(-1,1)\n",
    "scaled_error_train= StandardScaler(copy=False).fit(error_train).transform(error_train).flatten()\n",
    "\n",
    "import statsmodels.api as sm\n",
    "from matplotlib import pyplot as plt\n",
    "\n",
    "fig = sm.qqplot(scaled_error_train,line='45')\n",
    "plt.show()"
   ]
  },
  {
   "cell_type": "code",
   "execution_count": 80,
   "metadata": {},
   "outputs": [
    {
     "name": "stdout",
     "output_type": "stream",
     "text": [
      "                            OLS Regression Results                            \n",
      "==============================================================================\n",
      "Dep. Variable:              occupancy   R-squared:                       0.674\n",
      "Model:                            OLS   Adj. R-squared:                  0.672\n",
      "Method:                 Least Squares   F-statistic:                     454.1\n",
      "Date:                Wed, 04 Dec 2019   Prob (F-statistic):               0.00\n",
      "Time:                        11:09:26   Log-Likelihood:                -44321.\n",
      "No. Observations:                7298   AIC:                         8.871e+04\n",
      "Df Residuals:                    7264   BIC:                         8.894e+04\n",
      "Df Model:                          33                                         \n",
      "Covariance Type:            nonrobust                                         \n",
      "===================================================================================\n",
      "                      coef    std err          t      P>|t|      [0.025      0.975]\n",
      "-----------------------------------------------------------------------------------\n",
      "const           -9.495e+04   2933.768    -32.364      0.000   -1.01e+05   -8.92e+04\n",
      "temperature         6.0032      0.274     21.875      0.000       5.465       6.541\n",
      "humidity           -0.8437      0.086     -9.813      0.000      -1.012      -0.675\n",
      "winds              -0.5776      0.164     -3.524      0.000      -0.899      -0.256\n",
      "date_ord            0.2102      0.006     32.388      0.000       0.197       0.223\n",
      "weather_Clear   -3.163e+04    977.842    -32.343      0.000   -3.35e+04   -2.97e+04\n",
      "weather_Cloudy  -3.164e+04    977.981    -32.350      0.000   -3.36e+04   -2.97e+04\n",
      "weather_Osadki  -3.168e+04    977.956    -32.399      0.000   -3.36e+04   -2.98e+04\n",
      "season_t_fall   -2.375e+04    733.497    -32.383      0.000   -2.52e+04   -2.23e+04\n",
      "season_t_spring -2.375e+04    732.963    -32.404      0.000   -2.52e+04   -2.23e+04\n",
      "season_t_summer -2.372e+04    732.994    -32.356      0.000   -2.52e+04   -2.23e+04\n",
      "season_t_winter -2.373e+04    734.334    -32.313      0.000   -2.52e+04   -2.23e+04\n",
      "hr_0            -4083.1950    122.511    -33.329      0.000   -4323.351   -3843.039\n",
      "hr_1            -4091.8639    122.364    -33.440      0.000   -4331.733   -3851.995\n",
      "hr_2            -4104.3301    122.365    -33.542      0.000   -4344.201   -3864.460\n",
      "hr_3            -4124.0216    122.624    -33.631      0.000   -4364.401   -3883.642\n",
      "hr_4            -4121.1004    122.456    -33.654      0.000   -4361.150   -3881.051\n",
      "hr_5            -4099.5641    122.416    -33.489      0.000   -4339.534   -3859.594\n",
      "hr_6            -4044.8203    122.476    -33.025      0.000   -4284.909   -3804.732\n",
      "hr_7            -3907.8725    122.511    -31.898      0.000   -4148.030   -3667.716\n",
      "hr_8            -3755.3291    122.572    -30.638      0.000   -3995.607   -3515.052\n",
      "hr_9            -3921.4629    122.533    -32.003      0.000   -4161.663   -3681.263\n",
      "hr_10           -3966.4924    122.356    -32.418      0.000   -4206.346   -3726.639\n",
      "hr_11           -3948.5084    122.364    -32.269      0.000   -4188.377   -3708.640\n",
      "hr_12           -3912.2150    122.304    -31.988      0.000   -4151.967   -3672.463\n",
      "hr_13           -3903.6476    122.321    -31.913      0.000   -4143.433   -3663.862\n",
      "hr_14           -3936.8374    122.238    -32.206      0.000   -4176.460   -3697.215\n",
      "hr_15           -3930.0640    122.229    -32.153      0.000   -4169.668   -3690.460\n",
      "hr_16           -3862.5120    122.219    -31.603      0.000   -4102.097   -3622.927\n",
      "hr_17           -3697.4432    122.284    -30.236      0.000   -3937.156   -3457.731\n",
      "hr_18           -3746.2253    122.252    -30.643      0.000   -3985.875   -3506.575\n",
      "hr_19           -3839.5831    122.385    -31.373      0.000   -4079.492   -3599.674\n",
      "hr_20           -3919.7536    122.386    -32.028      0.000   -4159.666   -3679.841\n",
      "hr_21           -3969.2943    122.325    -32.449      0.000   -4209.086   -3729.502\n",
      "hr_22           -4014.8075    122.369    -32.809      0.000   -4254.686   -3774.929\n",
      "hr_23           -4047.2228    122.424    -33.059      0.000   -4287.210   -3807.236\n",
      "holiday           -34.9225      7.357     -4.747      0.000     -49.345     -20.500\n",
      "==============================================================================\n",
      "Omnibus:                      477.058   Durbin-Watson:                   1.997\n",
      "Prob(Omnibus):                  0.000   Jarque-Bera (JB):             1177.999\n",
      "Skew:                           0.391   Prob(JB):                    1.59e-256\n",
      "Kurtosis:                       4.806   Cond. No.                     9.56e+21\n",
      "==============================================================================\n",
      "\n",
      "Warnings:\n",
      "[1] Standard Errors assume that the covariance matrix of the errors is correctly specified.\n",
      "[2] The smallest eigenvalue is 4.31e-29. This might indicate that there are\n",
      "strong multicollinearity problems or that the design matrix is singular.\n"
     ]
    },
    {
     "name": "stderr",
     "output_type": "stream",
     "text": [
      "C:\\Users\\xiaomi\\Anaconda3\\lib\\site-packages\\numpy\\core\\fromnumeric.py:2389: FutureWarning: Method .ptp is deprecated and will be removed in a future version. Use numpy.ptp instead.\n",
      "  return ptp(axis=axis, out=out, **kwargs)\n"
     ]
    }
   ],
   "source": [
    "import pandas as pd\n",
    "import numpy as np\n",
    "import statsmodels.api as sm\n",
    "from scipy import stats\n",
    "\n",
    "X_train = sm.add_constant(X_train)\n",
    "#If we want to add a constant to our model \n",
    "est = sm.OLS(y_train, X_train)\n",
    "est_fit = est.fit()\n",
    "est_fit.params\n",
    "\n",
    "print(est_fit.summary())"
   ]
  },
  {
   "cell_type": "code",
   "execution_count": 81,
   "metadata": {},
   "outputs": [
    {
     "name": "stdout",
     "output_type": "stream",
     "text": [
      "KstestResult(statistic=0.06416630827852027, pvalue=1.5904677171484913e-26)\n",
      "NormaltestResult(statistic=477.0577224441463, pvalue=2.559951848942174e-104)\n"
     ]
    }
   ],
   "source": [
    "# Kolmogorov-Smirnov Test\n",
    "from scipy import stats\n",
    "print(stats.kstest(scaled_error_train, 'norm'))\n",
    "\n",
    "# D’Agostino Test\n",
    "print(stats.normaltest(scaled_error_train))"
   ]
  },
  {
   "cell_type": "markdown",
   "metadata": {},
   "source": [
    "## Tree "
   ]
  },
  {
   "cell_type": "code",
   "execution_count": 82,
   "metadata": {},
   "outputs": [],
   "source": [
    "X=final.loc[:,\n",
    " ['temperature',\n",
    " 'humidity',\n",
    " 'winds',\n",
    " #'n_employee',\n",
    " #'exp_employee',\n",
    " 'date_ord',\n",
    " #'hours_0-6',\n",
    " #'hours_7-12',\n",
    " #'hours_13-18',\n",
    " #'hours_19-23',\n",
    " #'day_week1',\n",
    " #'day_week2',\n",
    " #'day_week3',\n",
    " #'month_1',\n",
    " ##'month_2',\n",
    " #'month_3',\n",
    " #'month_4',\n",
    " ##'month_5',\n",
    " #'month_6',\n",
    " #'month_7',\n",
    " #'month_8',\n",
    " #'month_9',\n",
    " #'month_10',\n",
    " #'month_11',\n",
    " #'month_12',\n",
    " #'year_2011',\n",
    " #'year_2012',\n",
    " #'weekday_0',\n",
    " #'weekday_1',\n",
    " #'weekday_2',\n",
    " #'weekday_3',\n",
    " #'weekday_4',\n",
    " #'weekday_5',\n",
    " #'weekday_6',\n",
    " 'weather_Clear',\n",
    " 'weather_Cloudy',\n",
    " 'weather_Osadki',\n",
    " 'season_t_fall',\n",
    " 'season_t_spring',\n",
    " 'season_t_summer',\n",
    " 'season_t_winter',\n",
    " 'hr_0',\n",
    " 'hr_1',\n",
    " 'hr_2',\n",
    " 'hr_3',\n",
    " 'hr_4',\n",
    " 'hr_5',\n",
    " 'hr_6',\n",
    " 'hr_7',\n",
    " 'hr_8',\n",
    " 'hr_9',\n",
    " 'hr_10',\n",
    " 'hr_11',\n",
    " 'hr_12',\n",
    " 'hr_13',\n",
    " 'hr_14',\n",
    " 'hr_15',\n",
    " 'hr_16',\n",
    " 'hr_17',\n",
    " 'hr_18',\n",
    " 'hr_19',\n",
    " 'hr_20',\n",
    " 'hr_21',\n",
    " 'hr_22',\n",
    " 'hr_23',\n",
    " #'workingday',\n",
    " 'holiday',\n",
    " #'hr',\n",
    " #'day',\n",
    " #'month',\n",
    " #'temperature_sc',\n",
    " #'s_temp_sc',\n",
    " #'humidity_sc',\n",
    " #'winds_sc',\n",
    " #'n_employee_sc',\n",
    " #'exp_employee_sc'\n",
    " ]           \n",
    "           ]\n",
    "y = final.loc[:,['occupancy']]\n",
    "\n",
    "from sklearn.model_selection import train_test_split\n",
    "import numpy as np\n",
    "X_train, X_test, y_train, y_test = train_test_split(X,y,\n",
    "                                                    test_size=0.3,\n",
    "                                                    random_state=123)"
   ]
  },
  {
   "cell_type": "code",
   "execution_count": 83,
   "metadata": {},
   "outputs": [
    {
     "name": "stdout",
     "output_type": "stream",
     "text": [
      "***GRIDSEARCH RESULTS***\n",
      "Best score: 0.523355 using {'max_depth': 10, 'min_samples_leaf': 0.01}\n",
      "0.265451 (0.008814) with: {'max_depth': 3, 'min_samples_leaf': 0.1}\n",
      "0.219745 (0.008265) with: {'max_depth': 3, 'min_samples_leaf': 0.15}\n",
      "0.278836 (0.008619) with: {'max_depth': 3, 'min_samples_leaf': 0.05}\n",
      "0.317211 (0.040542) with: {'max_depth': 3, 'min_samples_leaf': 0.01}\n",
      "0.266123 (0.009099) with: {'max_depth': 4, 'min_samples_leaf': 0.1}\n",
      "0.219745 (0.008265) with: {'max_depth': 4, 'min_samples_leaf': 0.15}\n",
      "0.300624 (0.012861) with: {'max_depth': 4, 'min_samples_leaf': 0.05}\n",
      "0.382719 (0.033441) with: {'max_depth': 4, 'min_samples_leaf': 0.01}\n",
      "0.266123 (0.009099) with: {'max_depth': 5, 'min_samples_leaf': 0.1}\n",
      "0.219745 (0.008265) with: {'max_depth': 5, 'min_samples_leaf': 0.15}\n",
      "0.302636 (0.011744) with: {'max_depth': 5, 'min_samples_leaf': 0.05}\n",
      "0.432909 (0.017715) with: {'max_depth': 5, 'min_samples_leaf': 0.01}\n",
      "0.266123 (0.009099) with: {'max_depth': 6, 'min_samples_leaf': 0.1}\n",
      "0.219745 (0.008265) with: {'max_depth': 6, 'min_samples_leaf': 0.15}\n",
      "0.302636 (0.011744) with: {'max_depth': 6, 'min_samples_leaf': 0.05}\n",
      "0.461722 (0.010933) with: {'max_depth': 6, 'min_samples_leaf': 0.01}\n",
      "0.266123 (0.009099) with: {'max_depth': 7, 'min_samples_leaf': 0.1}\n",
      "0.219745 (0.008265) with: {'max_depth': 7, 'min_samples_leaf': 0.15}\n",
      "0.302636 (0.011744) with: {'max_depth': 7, 'min_samples_leaf': 0.05}\n",
      "0.486162 (0.010523) with: {'max_depth': 7, 'min_samples_leaf': 0.01}\n",
      "0.266123 (0.009099) with: {'max_depth': 8, 'min_samples_leaf': 0.1}\n",
      "0.219745 (0.008265) with: {'max_depth': 8, 'min_samples_leaf': 0.15}\n",
      "0.302636 (0.011744) with: {'max_depth': 8, 'min_samples_leaf': 0.05}\n",
      "0.504533 (0.006092) with: {'max_depth': 8, 'min_samples_leaf': 0.01}\n",
      "0.266123 (0.009099) with: {'max_depth': 9, 'min_samples_leaf': 0.1}\n",
      "0.219745 (0.008265) with: {'max_depth': 9, 'min_samples_leaf': 0.15}\n",
      "0.302636 (0.011744) with: {'max_depth': 9, 'min_samples_leaf': 0.05}\n",
      "0.514827 (0.005107) with: {'max_depth': 9, 'min_samples_leaf': 0.01}\n",
      "0.266123 (0.009099) with: {'max_depth': 10, 'min_samples_leaf': 0.1}\n",
      "0.219745 (0.008265) with: {'max_depth': 10, 'min_samples_leaf': 0.15}\n",
      "0.302636 (0.011744) with: {'max_depth': 10, 'min_samples_leaf': 0.05}\n",
      "0.523355 (0.008251) with: {'max_depth': 10, 'min_samples_leaf': 0.01}\n"
     ]
    },
    {
     "data": {
      "text/plain": [
       "0.5080869362262115"
      ]
     },
     "execution_count": 83,
     "metadata": {},
     "output_type": "execute_result"
    }
   ],
   "source": [
    "#DEFINE YOUR REGRESSOR and THE PARAMETERS GRID\n",
    "from sklearn.tree import DecisionTreeRegressor \n",
    "import numpy as np\n",
    "\n",
    "regressor = DecisionTreeRegressor()\n",
    "parameters = {\"max_depth\":[3,4,5,6,7,8,9,10], \n",
    "              \"min_samples_leaf\": [0.1, 0.15, 0.05, 0.01]}\n",
    "\n",
    "#DEFINE YOUR GRIDSEARCH \n",
    "from sklearn.model_selection import GridSearchCV\n",
    "gs = GridSearchCV(regressor, parameters, cv=3) #with no params it reduces to a CV\n",
    "\n",
    "gs = gs.fit(X_train,y_train)\n",
    "\n",
    "#summarize the results of your GRIDSEARCH\n",
    "print('***GRIDSEARCH RESULTS***')\n",
    "print(\"Best score: %f using %s\" % (gs.best_score_, gs.best_params_))\n",
    "means = gs.cv_results_['mean_test_score']\n",
    "stds = gs.cv_results_['std_test_score']\n",
    "params = gs.cv_results_['params']\n",
    "for mean, stdev, param in zip(means, stds, params):\n",
    "    print(\"%f (%f) with: %r\" % (mean, stdev, param))\n",
    "\n",
    "#Returns the coefficient of determination R^2 of the prediction.\n",
    "#Explained variance score: 1 is perfect prediction\n",
    "gs.score(X_test, y_test)"
   ]
  },
  {
   "cell_type": "code",
   "execution_count": 84,
   "metadata": {},
   "outputs": [
    {
     "name": "stdout",
     "output_type": "stream",
     "text": [
      "MAE train:  92.3948482047547\n",
      "MSE train:  15721.209458217198\n",
      "RMSE train:  125.3842472490751\n",
      "r2:  0.7311213850077963\n",
      "MAE test:  94.4956992972609\n",
      "MSE test:  16183.312770145065\n",
      "RMSE test:  127.21365009363211\n",
      "r2:  0.5080869362262115\n"
     ]
    }
   ],
   "source": [
    "from sklearn import metrics\n",
    "\n",
    "print(\"MAE train: \", metrics.mean_absolute_error(y_train, gs.predict(X_train))) \n",
    "print(\"MSE train: \",metrics.mean_squared_error(y_train, gs.predict(X_train)))\n",
    "print(\"RMSE train: \",np.sqrt(metrics.mean_squared_error(y_train, gs.predict(X_train))))\n",
    "print(\"r2: \",np.sqrt(metrics.r2_score(y_train, gs.predict(X_train))))\n",
    "\n",
    "print(\"MAE test: \", metrics.mean_absolute_error(y_test, gs.predict(X_test))) \n",
    "print(\"MSE test: \",metrics.mean_squared_error(y_test, gs.predict(X_test)))\n",
    "print(\"RMSE test: \",np.sqrt(metrics.mean_squared_error(y_test, gs.predict(X_test))))\n",
    "print(\"r2: \",metrics.r2_score(y_test, gs.predict(X_test)))"
   ]
  },
  {
   "cell_type": "code",
   "execution_count": 85,
   "metadata": {},
   "outputs": [],
   "source": [
    "#It is worse then previous"
   ]
  },
  {
   "cell_type": "markdown",
   "metadata": {},
   "source": [
    "## Random Forest "
   ]
  },
  {
   "cell_type": "code",
   "execution_count": 21,
   "metadata": {},
   "outputs": [],
   "source": [
    "X=final.loc[:,\n",
    "['temperature',\n",
    " 'humidity',\n",
    " 'winds',\n",
    " #'n_employee',\n",
    " #'exp_employee',\n",
    " 'date_ord',\n",
    " #'hours_0-6',\n",
    " #'hours_7-12',\n",
    " #'hours_13-18',\n",
    " #'hours_19-23',\n",
    " #'day_week1',\n",
    " #'day_week2',\n",
    " #'day_week3',\n",
    " #'month_1',\n",
    " #'month_2',\n",
    " #'month_3',\n",
    " #'month_4',\n",
    " #'month_5',\n",
    " #'month_6',\n",
    " #'month_7',\n",
    " #'month_8',\n",
    " #'month_9',\n",
    " #'month_10',\n",
    " #'month_11',\n",
    " #'month_12',\n",
    " #'year_2011',\n",
    " #'year_2012',\n",
    " 'weekday_0',\n",
    " 'weekday_1',\n",
    " 'weekday_2',\n",
    " 'weekday_3',\n",
    " 'weekday_4',\n",
    " 'weekday_5',\n",
    " 'weekday_6',\n",
    " 'weather_Clear',\n",
    " 'weather_Cloudy',\n",
    " 'weather_Osadki',\n",
    " 'season_t_fall',\n",
    " 'season_t_spring',\n",
    " 'season_t_summer',\n",
    " 'season_t_winter',\n",
    " #'hr_0',\n",
    " #'hr_1',\n",
    " #'hr_2',\n",
    " #'hr_3',\n",
    " #'hr_4',\n",
    " #'hr_5',\n",
    " #'hr_6',\n",
    " #'hr_7',\n",
    " #'hr_8',\n",
    " #'hr_9',\n",
    " #'hr_10',\n",
    " #'hr_11',\n",
    " #'hr_12',\n",
    " #'hr_13',\n",
    " #'hr_14',\n",
    " #'hr_15',\n",
    " #'hr_16',\n",
    " #'hr_17',\n",
    " #'hr_18',\n",
    " #'hr_19',\n",
    " #'hr_20',\n",
    " #'hr_21',\n",
    " #'hr_22',\n",
    " #'hr_23',\n",
    " 'workingday',\n",
    " 'holiday',\n",
    " 'hr',\n",
    " #'day',\n",
    " #'month',\n",
    " #'temperature_sc',\n",
    " #'s_temp_sc',\n",
    " #'humidity_sc',\n",
    " #'winds_sc',\n",
    " #'n_employee_sc',\n",
    " #'exp_employee_sc',\n",
    " #'occupancy'\n",
    "]]\n",
    "y = final.loc[:,['occupancy']]"
   ]
  },
  {
   "cell_type": "code",
   "execution_count": 22,
   "metadata": {},
   "outputs": [
    {
     "name": "stderr",
     "output_type": "stream",
     "text": [
      "C:\\Users\\xiaomi\\Anaconda3\\lib\\site-packages\\sklearn\\model_selection\\_validation.py:516: DataConversionWarning: A column-vector y was passed when a 1d array was expected. Please change the shape of y to (n_samples,), for example using ravel().\n",
      "  estimator.fit(X_train, y_train, **fit_params)\n",
      "C:\\Users\\xiaomi\\Anaconda3\\lib\\site-packages\\sklearn\\model_selection\\_validation.py:516: DataConversionWarning: A column-vector y was passed when a 1d array was expected. Please change the shape of y to (n_samples,), for example using ravel().\n",
      "  estimator.fit(X_train, y_train, **fit_params)\n",
      "C:\\Users\\xiaomi\\Anaconda3\\lib\\site-packages\\sklearn\\model_selection\\_validation.py:516: DataConversionWarning: A column-vector y was passed when a 1d array was expected. Please change the shape of y to (n_samples,), for example using ravel().\n",
      "  estimator.fit(X_train, y_train, **fit_params)\n",
      "C:\\Users\\xiaomi\\Anaconda3\\lib\\site-packages\\sklearn\\model_selection\\_validation.py:516: DataConversionWarning: A column-vector y was passed when a 1d array was expected. Please change the shape of y to (n_samples,), for example using ravel().\n",
      "  estimator.fit(X_train, y_train, **fit_params)\n",
      "C:\\Users\\xiaomi\\Anaconda3\\lib\\site-packages\\sklearn\\model_selection\\_validation.py:516: DataConversionWarning: A column-vector y was passed when a 1d array was expected. Please change the shape of y to (n_samples,), for example using ravel().\n",
      "  estimator.fit(X_train, y_train, **fit_params)\n",
      "C:\\Users\\xiaomi\\Anaconda3\\lib\\site-packages\\sklearn\\model_selection\\_validation.py:516: DataConversionWarning: A column-vector y was passed when a 1d array was expected. Please change the shape of y to (n_samples,), for example using ravel().\n",
      "  estimator.fit(X_train, y_train, **fit_params)\n",
      "C:\\Users\\xiaomi\\Anaconda3\\lib\\site-packages\\sklearn\\model_selection\\_validation.py:516: DataConversionWarning: A column-vector y was passed when a 1d array was expected. Please change the shape of y to (n_samples,), for example using ravel().\n",
      "  estimator.fit(X_train, y_train, **fit_params)\n",
      "C:\\Users\\xiaomi\\Anaconda3\\lib\\site-packages\\sklearn\\model_selection\\_validation.py:516: DataConversionWarning: A column-vector y was passed when a 1d array was expected. Please change the shape of y to (n_samples,), for example using ravel().\n",
      "  estimator.fit(X_train, y_train, **fit_params)\n",
      "C:\\Users\\xiaomi\\Anaconda3\\lib\\site-packages\\sklearn\\model_selection\\_validation.py:516: DataConversionWarning: A column-vector y was passed when a 1d array was expected. Please change the shape of y to (n_samples,), for example using ravel().\n",
      "  estimator.fit(X_train, y_train, **fit_params)\n",
      "C:\\Users\\xiaomi\\Anaconda3\\lib\\site-packages\\sklearn\\model_selection\\_validation.py:516: DataConversionWarning: A column-vector y was passed when a 1d array was expected. Please change the shape of y to (n_samples,), for example using ravel().\n",
      "  estimator.fit(X_train, y_train, **fit_params)\n",
      "C:\\Users\\xiaomi\\Anaconda3\\lib\\site-packages\\sklearn\\model_selection\\_validation.py:516: DataConversionWarning: A column-vector y was passed when a 1d array was expected. Please change the shape of y to (n_samples,), for example using ravel().\n",
      "  estimator.fit(X_train, y_train, **fit_params)\n",
      "C:\\Users\\xiaomi\\Anaconda3\\lib\\site-packages\\sklearn\\model_selection\\_validation.py:516: DataConversionWarning: A column-vector y was passed when a 1d array was expected. Please change the shape of y to (n_samples,), for example using ravel().\n",
      "  estimator.fit(X_train, y_train, **fit_params)\n",
      "C:\\Users\\xiaomi\\Anaconda3\\lib\\site-packages\\sklearn\\model_selection\\_search.py:715: DataConversionWarning: A column-vector y was passed when a 1d array was expected. Please change the shape of y to (n_samples,), for example using ravel().\n",
      "  self.best_estimator_.fit(X, y, **fit_params)\n"
     ]
    },
    {
     "name": "stdout",
     "output_type": "stream",
     "text": [
      "***GRIDSEARCH RESULTS***\n",
      "Best score: 0.916413 using {'criterion': 'mse', 'max_depth': 10, 'max_features': 'auto', 'min_samples_leaf': 1, 'min_samples_split': 2, 'n_estimators': 500, 'random_state': 42}\n",
      "0.916413 (0.002573) with: {'criterion': 'mse', 'max_depth': 10, 'max_features': 'auto', 'min_samples_leaf': 1, 'min_samples_split': 2, 'n_estimators': 500, 'random_state': 42}\n",
      "0.916148 (0.002811) with: {'criterion': 'mse', 'max_depth': 10, 'max_features': 'auto', 'min_samples_leaf': 1, 'min_samples_split': 2, 'n_estimators': 1000, 'random_state': 42}\n",
      "0.915340 (0.002235) with: {'criterion': 'mse', 'max_depth': 10, 'max_features': 'auto', 'min_samples_leaf': 2, 'min_samples_split': 2, 'n_estimators': 500, 'random_state': 42}\n",
      "0.915158 (0.002438) with: {'criterion': 'mse', 'max_depth': 10, 'max_features': 'auto', 'min_samples_leaf': 2, 'min_samples_split': 2, 'n_estimators': 1000, 'random_state': 42}\n"
     ]
    },
    {
     "data": {
      "text/plain": [
       "0.9217463155876013"
      ]
     },
     "execution_count": 22,
     "metadata": {},
     "output_type": "execute_result"
    }
   ],
   "source": [
    "from sklearn.model_selection import train_test_split\n",
    "\n",
    "X_train, X_test, y_train, y_test = train_test_split(X,y,\n",
    "                                                    test_size=0.3,\n",
    "                                                    random_state=42)\n",
    "\n",
    "#DEFINE YOUR REGRESSOR and THE PARAMETERS GRID\n",
    "from sklearn.ensemble import RandomForestRegressor \n",
    "import numpy as np\n",
    "\n",
    "regressor = RandomForestRegressor()\n",
    "parameters = {\"n_estimators\":[500,1000], \"criterion\": ['mse'], 'min_samples_split': [2], 'max_depth': [10],\n",
    "              \"min_samples_leaf\": [1,2], \"random_state\" : [42], 'max_features': ['auto']}\n",
    "\n",
    "#DEFINE YOUR GRIDSEARCH \n",
    "from sklearn.model_selection import GridSearchCV\n",
    "gs = GridSearchCV(regressor, parameters, cv=3) #with no params it reduces to a CV\n",
    "\n",
    "gs = gs.fit(X_train,y_train)\n",
    "\n",
    "#summarize the results of your GRIDSEARCH\n",
    "print('***GRIDSEARCH RESULTS***')\n",
    "print(\"Best score: %f using %s\" % (gs.best_score_, gs.best_params_))\n",
    "means = gs.cv_results_['mean_test_score']\n",
    "stds = gs.cv_results_['std_test_score']\n",
    "params = gs.cv_results_['params']\n",
    "for mean, stdev, param in zip(means, stds, params):\n",
    "    print(\"%f (%f) with: %r\" % (mean, stdev, param))\n",
    "\n",
    "#Returns the coefficient of determination R^2 of the prediction.\n",
    "#Explained variance score: 1 is perfect prediction\n",
    "gs.score(X_test, y_test)"
   ]
  },
  {
   "cell_type": "code",
   "execution_count": 23,
   "metadata": {},
   "outputs": [
    {
     "name": "stdout",
     "output_type": "stream",
     "text": [
      "MAE train:  25.141769395893075\n",
      "MSE train:  1580.6401995624076\n",
      "RMSE train:  39.757265997077916\n",
      "r2:  0.9760319513671245\n",
      "MAE test:  31.754705200774012\n",
      "MSE test:  2646.9299629702714\n",
      "RMSE test:  51.44832322797577\n",
      "r2:  0.9217463155876013\n"
     ]
    }
   ],
   "source": [
    "from sklearn import metrics\n",
    "\n",
    "print(\"MAE train: \", metrics.mean_absolute_error(y_train, gs.predict(X_train))) \n",
    "print(\"MSE train: \",metrics.mean_squared_error(y_train, gs.predict(X_train)))\n",
    "print(\"RMSE train: \",np.sqrt(metrics.mean_squared_error(y_train, gs.predict(X_train))))\n",
    "print(\"r2: \",np.sqrt(metrics.r2_score(y_train, gs.predict(X_train))))\n",
    "\n",
    "print(\"MAE test: \", metrics.mean_absolute_error(y_test, gs.predict(X_test))) \n",
    "print(\"MSE test: \",metrics.mean_squared_error(y_test, gs.predict(X_test)))\n",
    "print(\"RMSE test: \",np.sqrt(metrics.mean_squared_error(y_test, gs.predict(X_test))))\n",
    "print(\"r2: \",metrics.r2_score(y_test, gs.predict(X_test)))"
   ]
  },
  {
   "cell_type": "code",
   "execution_count": 24,
   "metadata": {},
   "outputs": [
    {
     "ename": "NameError",
     "evalue": "name 'error_train' is not defined",
     "output_type": "error",
     "traceback": [
      "\u001b[1;31m---------------------------------------------------------------------------\u001b[0m",
      "\u001b[1;31mNameError\u001b[0m                                 Traceback (most recent call last)",
      "\u001b[1;32m<ipython-input-24-0cc6cf057815>\u001b[0m in \u001b[0;36m<module>\u001b[1;34m\u001b[0m\n\u001b[0;32m      1\u001b[0m \u001b[1;31m# Kolmogorov-Smirnov Test\u001b[0m\u001b[1;33m\u001b[0m\u001b[1;33m\u001b[0m\u001b[1;33m\u001b[0m\u001b[0m\n\u001b[0;32m      2\u001b[0m \u001b[1;32mfrom\u001b[0m \u001b[0mscipy\u001b[0m \u001b[1;32mimport\u001b[0m \u001b[0mstats\u001b[0m\u001b[1;33m\u001b[0m\u001b[1;33m\u001b[0m\u001b[0m\n\u001b[1;32m----> 3\u001b[1;33m \u001b[0mprint\u001b[0m\u001b[1;33m(\u001b[0m\u001b[0mstats\u001b[0m\u001b[1;33m.\u001b[0m\u001b[0mkstest\u001b[0m\u001b[1;33m(\u001b[0m\u001b[0merror_train\u001b[0m\u001b[1;33m,\u001b[0m \u001b[1;34m'norm'\u001b[0m\u001b[1;33m)\u001b[0m\u001b[1;33m)\u001b[0m\u001b[1;33m\u001b[0m\u001b[1;33m\u001b[0m\u001b[0m\n\u001b[0m\u001b[0;32m      4\u001b[0m \u001b[1;33m\u001b[0m\u001b[0m\n\u001b[0;32m      5\u001b[0m \u001b[1;31m# D’Agostino Test\u001b[0m\u001b[1;33m\u001b[0m\u001b[1;33m\u001b[0m\u001b[1;33m\u001b[0m\u001b[0m\n",
      "\u001b[1;31mNameError\u001b[0m: name 'error_train' is not defined"
     ]
    }
   ],
   "source": [
    "# Kolmogorov-Smirnov Test\n",
    "from scipy import stats\n",
    "print(stats.kstest(error_train, 'norm'))\n",
    "\n",
    "# D’Agostino Test\n",
    "print(stats.normaltest(error_train))"
   ]
  },
  {
   "cell_type": "markdown",
   "metadata": {},
   "source": [
    "# Lasso, ridge"
   ]
  },
  {
   "cell_type": "code",
   "execution_count": 92,
   "metadata": {},
   "outputs": [],
   "source": [
    "X=final.loc[:,\n",
    " ['temperature',\n",
    " 'humidity',\n",
    " 'winds',\n",
    " #'n_employee',\n",
    " #'exp_employee',\n",
    " 'date_ord',\n",
    " #'hours_0-6',\n",
    " #'hours_7-12',\n",
    " #'hours_13-18',\n",
    " #'hours_19-23',\n",
    " #'day_week1',\n",
    " #'day_week2',\n",
    " #'day_week3',\n",
    " #'month_1',\n",
    " ##'month_2',\n",
    " #'month_3',\n",
    " #'month_4',\n",
    " ##'month_5',\n",
    " #'month_6',\n",
    " #'month_7',\n",
    " #'month_8',\n",
    " #'month_9',\n",
    " #'month_10',\n",
    " #'month_11',\n",
    " #'month_12',\n",
    " #'year_2011',\n",
    " #'year_2012',\n",
    " #'weekday_0',\n",
    " #'weekday_1',\n",
    " #'weekday_2',\n",
    " #'weekday_3',\n",
    " #'weekday_4',\n",
    " #'weekday_5',\n",
    " #'weekday_6',\n",
    " 'weather_Clear',\n",
    " 'weather_Cloudy',\n",
    " 'weather_Osadki',\n",
    " 'season_t_fall',\n",
    " 'season_t_spring',\n",
    " 'season_t_summer',\n",
    " 'season_t_winter',\n",
    " 'hr_0',\n",
    " 'hr_1',\n",
    " 'hr_2',\n",
    " 'hr_3',\n",
    " 'hr_4',\n",
    " 'hr_5',\n",
    " 'hr_6',\n",
    " 'hr_7',\n",
    " 'hr_8',\n",
    " 'hr_9',\n",
    " 'hr_10',\n",
    " 'hr_11',\n",
    " 'hr_12',\n",
    " 'hr_13',\n",
    " 'hr_14',\n",
    " 'hr_15',\n",
    " 'hr_16',\n",
    " 'hr_17',\n",
    " 'hr_18',\n",
    " 'hr_19',\n",
    " 'hr_20',\n",
    " 'hr_21',\n",
    " 'hr_22',\n",
    " 'hr_23',\n",
    " #'workingday',\n",
    " 'holiday',\n",
    " #'hr',\n",
    " #'day',\n",
    " #'month',\n",
    " #'temperature_sc',\n",
    " #'s_temp_sc',\n",
    " #'humidity_sc',\n",
    " #'winds_sc',\n",
    " #'n_employee_sc',\n",
    " #'exp_employee_sc'\n",
    " ]           \n",
    "           ]\n",
    "y = final.loc[:,['occupancy']]"
   ]
  },
  {
   "cell_type": "code",
   "execution_count": 93,
   "metadata": {},
   "outputs": [],
   "source": [
    "from sklearn.model_selection import train_test_split\n",
    "import numpy as np\n",
    "X_train, X_test, y_train, y_test = train_test_split(X,y,\n",
    "                                                    test_size=0.3,\n",
    "                                                    random_state=123)"
   ]
  },
  {
   "cell_type": "code",
   "execution_count": 94,
   "metadata": {},
   "outputs": [
    {
     "name": "stderr",
     "output_type": "stream",
     "text": [
      "C:\\Users\\xiaomi\\Anaconda3\\lib\\site-packages\\sklearn\\linear_model\\coordinate_descent.py:475: ConvergenceWarning: Objective did not converge. You might want to increase the number of iterations. Duality gap: 903993.9266482815, tolerance: 16222.364719424462\n",
      "  positive)\n",
      "C:\\Users\\xiaomi\\Anaconda3\\lib\\site-packages\\sklearn\\linear_model\\coordinate_descent.py:475: ConvergenceWarning: Objective did not converge. You might want to increase the number of iterations. Duality gap: 337121.829457283, tolerance: 16218.897268160332\n",
      "  positive)\n",
      "C:\\Users\\xiaomi\\Anaconda3\\lib\\site-packages\\sklearn\\linear_model\\coordinate_descent.py:475: ConvergenceWarning: Objective did not converge. You might want to increase the number of iterations. Duality gap: 982673.875774458, tolerance: 16854.858949136866\n",
      "  positive)\n"
     ]
    },
    {
     "name": "stdout",
     "output_type": "stream",
     "text": [
      "[ 6.01719618e+00 -8.50459493e-01 -5.75076231e-01  2.10212971e-01\n",
      "  1.13672571e+01 -0.00000000e+00 -4.67738121e+01 -2.41306653e+01\n",
      " -2.21084782e+01  1.17286329e+01  1.84093615e-02 -1.45665352e+02\n",
      " -1.54331788e+02 -1.66810631e+02 -1.86428843e+02 -1.83533605e+02\n",
      " -1.61990590e+02 -1.07237873e+02  2.92070004e+01  1.81725296e+02\n",
      "  1.55217376e+01 -2.90533957e+01 -1.11127996e+01  2.46630405e+01\n",
      "  3.32086478e+01  0.00000000e+00  6.77838917e+00  7.43315215e+01\n",
      "  2.39396218e+02  1.90656842e+02  9.73353074e+01  1.71935467e+01\n",
      " -3.18289705e+01 -7.73243260e+01 -1.09736522e+02 -3.45590044e+01]\n",
      "***GRIDSEARCH RESULTS***\n",
      "Best score: 0.668686 using {'alpha': 0.01, 'normalize': False}\n",
      "0.668681 (0.007208) with: {'alpha': 0.001, 'normalize': True}\n",
      "0.668684 (0.007219) with: {'alpha': 0.001, 'normalize': False}\n",
      "0.668245 (0.007140) with: {'alpha': 0.01, 'normalize': True}\n",
      "0.668686 (0.007218) with: {'alpha': 0.01, 'normalize': False}\n",
      "0.634671 (0.007837) with: {'alpha': 0.1, 'normalize': True}\n",
      "0.668497 (0.007210) with: {'alpha': 0.1, 'normalize': False}\n",
      "0.016078 (0.002138) with: {'alpha': 1, 'normalize': True}\n",
      "0.649401 (0.008504) with: {'alpha': 1, 'normalize': False}\n",
      "-0.000495 (0.000367) with: {'alpha': 10, 'normalize': True}\n",
      "0.303560 (0.007531) with: {'alpha': 10, 'normalize': False}\n"
     ]
    },
    {
     "data": {
      "text/plain": [
       "0.684972742662699"
      ]
     },
     "execution_count": 94,
     "metadata": {},
     "output_type": "execute_result"
    }
   ],
   "source": [
    "#Lasso \n",
    "    \n",
    "#DEFINE YOUR REGRESSOR and THE PARAMETERS GRID\n",
    "from sklearn.linear_model import Lasso\n",
    "import numpy as np\n",
    "\n",
    "regressor = Lasso()\n",
    "parameters = {\"alpha\": [0.001,0.01,0.1,1,10], \"normalize\": [True, False]}\n",
    "\n",
    "#DEFINE YOUR GRIDSEARCH \n",
    "from sklearn.model_selection import GridSearchCV\n",
    "gs = GridSearchCV(regressor, parameters, cv=3) #with no params it reduces to a CV\n",
    "\n",
    "gs = gs.fit(X_train,y_train)\n",
    "\n",
    "lasso_coef = gs.best_estimator_.coef_\n",
    "print(lasso_coef)\n",
    "\n",
    "#summarize the results of your GRIDSEARCH\n",
    "print('***GRIDSEARCH RESULTS***')\n",
    "print(\"Best score: %f using %s\" % (gs.best_score_, gs.best_params_))\n",
    "means = gs.cv_results_['mean_test_score']\n",
    "stds = gs.cv_results_['std_test_score']\n",
    "params = gs.cv_results_['params']\n",
    "for mean, stdev, param in zip(means, stds, params):\n",
    "    print(\"%f (%f) with: %r\" % (mean, stdev, param))\n",
    "\n",
    "#test on hold-out\n",
    "gs.score(X_test, y_test)"
   ]
  },
  {
   "cell_type": "code",
   "execution_count": 95,
   "metadata": {},
   "outputs": [
    {
     "name": "stdout",
     "output_type": "stream",
     "text": [
      "MAE train:  76.97958673724905\n",
      "MSE train:  11027.375688158383\n",
      "RMSE train:  105.01131219139386\n",
      "r2:  0.820676496781928\n",
      "MAE test:  75.23268498400252\n",
      "MSE test:  10363.995209842557\n",
      "RMSE test:  101.80370921455935\n",
      "r2:  0.684972742662699\n"
     ]
    }
   ],
   "source": [
    "from sklearn import metrics\n",
    "\n",
    "print(\"MAE train: \", metrics.mean_absolute_error(y_train, gs.predict(X_train))) \n",
    "print(\"MSE train: \",metrics.mean_squared_error(y_train, gs.predict(X_train)))\n",
    "print(\"RMSE train: \",np.sqrt(metrics.mean_squared_error(y_train, gs.predict(X_train))))\n",
    "print(\"r2: \",np.sqrt(metrics.r2_score(y_train, gs.predict(X_train))))\n",
    "\n",
    "print(\"MAE test: \", metrics.mean_absolute_error(y_test, gs.predict(X_test))) \n",
    "print(\"MSE test: \",metrics.mean_squared_error(y_test, gs.predict(X_test)))\n",
    "print(\"RMSE test: \",np.sqrt(metrics.mean_squared_error(y_test, gs.predict(X_test))))\n",
    "print(\"r2: \",metrics.r2_score(y_test, gs.predict(X_test)))"
   ]
  },
  {
   "cell_type": "code",
   "execution_count": 96,
   "metadata": {},
   "outputs": [
    {
     "data": {
      "image/png": "[encoded data removed]",
      "text/plain": [
       "<Figure size 432x288 with 1 Axes>"
      ]
     },
     "metadata": {
      "needs_background": "light"
     },
     "output_type": "display_data"
    }
   ],
   "source": [
    "error_train = gs.predict(X_train)-np.array(y_train).flatten()\n",
    "error_test = gs.predict(X_test)-np.array(y_test).flatten()\n",
    "\n",
    "plt.scatter(gs.predict(X_train),error_train, c=\"b\", label=\"training data\")\n",
    "plt.scatter(gs.predict(X_test),error_test, c=\"g\", label=\"test data\")\n",
    "plt.xlabel(\"Predicted Values\")\n",
    "plt.ylabel(\"Residuals\")\n",
    "plt.legend(loc=\"upper left\")\n",
    "plt.hlines(y=0, xmin=-10, xmax=50, color=\"r\")\n",
    "plt.xlim([-10,300])\n",
    "plt.show()"
   ]
  },
  {
   "cell_type": "code",
   "execution_count": 97,
   "metadata": {},
   "outputs": [
    {
     "data": {
      "image/png": "[encoded data removed]",
      "text/plain": [
       "<Figure size 432x288 with 1 Axes>"
      ]
     },
     "metadata": {
      "needs_background": "light"
     },
     "output_type": "display_data"
    }
   ],
   "source": [
    "error_train = np.array(error_train).reshape(-1,1)\n",
    "scaled_error_train= StandardScaler(copy=False).fit(error_train).transform(error_train).flatten()\n",
    "\n",
    "import statsmodels.api as sm\n",
    "from matplotlib import pyplot as plt\n",
    "\n",
    "fig = sm.qqplot(scaled_error_train,line='45')\n",
    "plt.show()"
   ]
  },
  {
   "cell_type": "code",
   "execution_count": 98,
   "metadata": {},
   "outputs": [
    {
     "name": "stdout",
     "output_type": "stream",
     "text": [
      "KstestResult(statistic=0.06461724596670254, pvalue=6.813967100548774e-27)\n",
      "NormaltestResult(statistic=480.630731563627, pvalue=4.2890659525738714e-105)\n"
     ]
    }
   ],
   "source": [
    "from scipy import stats\n",
    "print(stats.kstest(scaled_error_train, 'norm'))\n",
    "\n",
    "# D’Agostino Test\n",
    "print(stats.normaltest(scaled_error_train))"
   ]
  },
  {
   "cell_type": "code",
   "execution_count": 99,
   "metadata": {},
   "outputs": [
    {
     "name": "stdout",
     "output_type": "stream",
     "text": [
      "***GRIDSEARCH RESULTS***\n",
      "Best score: 0.668714 using {'alpha': 1, 'normalize': False}\n",
      "0.668690 (0.007196) with: {'alpha': 0.001, 'normalize': True}\n",
      "0.668683 (0.007220) with: {'alpha': 0.001, 'normalize': False}\n",
      "0.668708 (0.006980) with: {'alpha': 0.01, 'normalize': True}\n",
      "0.668683 (0.007220) with: {'alpha': 0.01, 'normalize': False}\n",
      "0.665043 (0.005498) with: {'alpha': 0.1, 'normalize': True}\n",
      "0.668687 (0.007214) with: {'alpha': 0.1, 'normalize': False}\n",
      "0.544178 (0.008934) with: {'alpha': 1, 'normalize': True}\n",
      "0.668714 (0.007161) with: {'alpha': 1, 'normalize': False}\n",
      "0.158985 (0.004371) with: {'alpha': 10, 'normalize': True}\n",
      "0.667943 (0.006772) with: {'alpha': 10, 'normalize': False}\n"
     ]
    },
    {
     "data": {
      "text/plain": [
       "0.6849825235802584"
      ]
     },
     "execution_count": 99,
     "metadata": {},
     "output_type": "execute_result"
    }
   ],
   "source": [
    "# Ridge\n",
    "#DEFINE YOUR REGRESSOR and THE PARAMETERS GRID\n",
    "from sklearn.linear_model import Ridge\n",
    "import numpy as np\n",
    "\n",
    "regressor = Ridge()\n",
    "\n",
    "parameters = {\"alpha\": [0.001,0.01,0.1,1,10], \"normalize\": [True, False]}\n",
    "#note that we set alpha using the argument alpha\n",
    "#also notice the argument normalize: setting this equal to True ensures that all \n",
    "#our variables are on the same scale\n",
    "\n",
    "#DEFINE YOUR GRIDSEARCH \n",
    "from sklearn.model_selection import GridSearchCV\n",
    "gs = GridSearchCV(regressor, parameters, cv=3) #with no params it reduces to a CV\n",
    "\n",
    "gs = gs.fit(X_train,y_train)\n",
    "\n",
    "#summarize the results of your GRIDSEARCH\n",
    "print('***GRIDSEARCH RESULTS***')\n",
    "print(\"Best score: %f using %s\" % (gs.best_score_, gs.best_params_))\n",
    "means = gs.cv_results_['mean_test_score']\n",
    "stds = gs.cv_results_['std_test_score']\n",
    "params = gs.cv_results_['params']\n",
    "for mean, stdev, param in zip(means, stds, params):\n",
    "    print(\"%f (%f) with: %r\" % (mean, stdev, param))\n",
    "\n",
    "#test on hold-out\n",
    "gs.score(X_test, y_test)"
   ]
  },
  {
   "cell_type": "code",
   "execution_count": 100,
   "metadata": {},
   "outputs": [
    {
     "name": "stdout",
     "output_type": "stream",
     "text": [
      "MAE train:  76.98891263291699\n",
      "MSE train:  11027.486328796373\n",
      "RMSE train:  105.01183899349812\n",
      "r2:  0.8206745010094117\n",
      "MAE test:  75.243425637476\n",
      "MSE test:  10363.673430122319\n",
      "RMSE test:  101.80212880938355\n",
      "r2:  0.6849825235802584\n"
     ]
    }
   ],
   "source": [
    "from sklearn import metrics\n",
    "\n",
    "print(\"MAE train: \", metrics.mean_absolute_error(y_train, gs.predict(X_train))) \n",
    "print(\"MSE train: \",metrics.mean_squared_error(y_train, gs.predict(X_train)))\n",
    "print(\"RMSE train: \",np.sqrt(metrics.mean_squared_error(y_train, gs.predict(X_train))))\n",
    "print(\"r2: \",np.sqrt(metrics.r2_score(y_train, gs.predict(X_train))))\n",
    "\n",
    "print(\"MAE test: \", metrics.mean_absolute_error(y_test, gs.predict(X_test))) \n",
    "print(\"MSE test: \",metrics.mean_squared_error(y_test, gs.predict(X_test)))\n",
    "print(\"RMSE test: \",np.sqrt(metrics.mean_squared_error(y_test, gs.predict(X_test))))\n",
    "print(\"r2: \",metrics.r2_score(y_test, gs.predict(X_test)))"
   ]
  },
  {
   "cell_type": "code",
   "execution_count": 101,
   "metadata": {},
   "outputs": [
    {
     "name": "stdout",
     "output_type": "stream",
     "text": [
      "KstestResult(statistic=0.06461724596670254, pvalue=6.813967100548774e-27)\n",
      "NormaltestResult(statistic=480.630731563627, pvalue=4.2890659525738714e-105)\n"
     ]
    }
   ],
   "source": [
    "from scipy import stats\n",
    "print(stats.kstest(scaled_error_train, 'norm'))\n",
    "\n",
    "# D’Agostino Test\n",
    "print(stats.normaltest(scaled_error_train))"
   ]
  },
  {
   "cell_type": "markdown",
   "metadata": {},
   "source": [
    "# prediction"
   ]
  },
  {
   "cell_type": "code",
   "execution_count": 25,
   "metadata": {},
   "outputs": [
    {
     "data": {
      "text/html": [
       "<div>\n",
       "<style scoped>\n",
       "    .dataframe tbody tr th:only-of-type {\n",
       "        vertical-align: middle;\n",
       "    }\n",
       "\n",
       "    .dataframe tbody tr th {\n",
       "        vertical-align: top;\n",
       "    }\n",
       "\n",
       "    .dataframe thead th {\n",
       "        text-align: right;\n",
       "    }\n",
       "</style>\n",
       "<table border=\"1\" class=\"dataframe\">\n",
       "  <thead>\n",
       "    <tr style=\"text-align: right;\">\n",
       "      <th></th>\n",
       "      <th>dteday</th>\n",
       "      <th>hr</th>\n",
       "      <th>holiday</th>\n",
       "      <th>weekday</th>\n",
       "      <th>workingday</th>\n",
       "      <th>season_t</th>\n",
       "      <th>weather</th>\n",
       "      <th>temperature</th>\n",
       "      <th>s_temp</th>\n",
       "      <th>humidity</th>\n",
       "      <th>winds</th>\n",
       "      <th>n_employee</th>\n",
       "      <th>exp_employee</th>\n",
       "    </tr>\n",
       "  </thead>\n",
       "  <tbody>\n",
       "    <tr>\n",
       "      <td>0</td>\n",
       "      <td>2012-06-23</td>\n",
       "      <td>19</td>\n",
       "      <td>0</td>\n",
       "      <td>6</td>\n",
       "      <td>0</td>\n",
       "      <td>fall</td>\n",
       "      <td>Clear</td>\n",
       "      <td>32.80</td>\n",
       "      <td>34.850</td>\n",
       "      <td>27</td>\n",
       "      <td>13.0</td>\n",
       "      <td>2.67</td>\n",
       "      <td>1.14</td>\n",
       "    </tr>\n",
       "    <tr>\n",
       "      <td>1</td>\n",
       "      <td>2012-01-02</td>\n",
       "      <td>20</td>\n",
       "      <td>1</td>\n",
       "      <td>1</td>\n",
       "      <td>0</td>\n",
       "      <td>spring</td>\n",
       "      <td>Clear</td>\n",
       "      <td>9.84</td>\n",
       "      <td>11.365</td>\n",
       "      <td>41</td>\n",
       "      <td>15.0</td>\n",
       "      <td>2.67</td>\n",
       "      <td>20.00</td>\n",
       "    </tr>\n",
       "    <tr>\n",
       "      <td>2</td>\n",
       "      <td>2011-10-28</td>\n",
       "      <td>2</td>\n",
       "      <td>0</td>\n",
       "      <td>5</td>\n",
       "      <td>1</td>\n",
       "      <td>winter</td>\n",
       "      <td>Clear</td>\n",
       "      <td>13.12</td>\n",
       "      <td>15.150</td>\n",
       "      <td>66</td>\n",
       "      <td>19.0</td>\n",
       "      <td>2.00</td>\n",
       "      <td>28.86</td>\n",
       "    </tr>\n",
       "    <tr>\n",
       "      <td>3</td>\n",
       "      <td>2012-05-29</td>\n",
       "      <td>19</td>\n",
       "      <td>0</td>\n",
       "      <td>2</td>\n",
       "      <td>1</td>\n",
       "      <td>summer</td>\n",
       "      <td>Clear</td>\n",
       "      <td>31.98</td>\n",
       "      <td>35.605</td>\n",
       "      <td>52</td>\n",
       "      <td>24.0</td>\n",
       "      <td>2.00</td>\n",
       "      <td>2.29</td>\n",
       "    </tr>\n",
       "    <tr>\n",
       "      <td>4</td>\n",
       "      <td>2011-01-20</td>\n",
       "      <td>0</td>\n",
       "      <td>0</td>\n",
       "      <td>4</td>\n",
       "      <td>1</td>\n",
       "      <td>spring</td>\n",
       "      <td>Clear</td>\n",
       "      <td>10.66</td>\n",
       "      <td>11.365</td>\n",
       "      <td>56</td>\n",
       "      <td>26.0</td>\n",
       "      <td>3.00</td>\n",
       "      <td>16.43</td>\n",
       "    </tr>\n",
       "  </tbody>\n",
       "</table>\n",
       "</div>"
      ],
      "text/plain": [
       "       dteday  hr  holiday  weekday  workingday season_t weather  temperature  \\\n",
       "0  2012-06-23  19        0        6           0     fall   Clear        32.80   \n",
       "1  2012-01-02  20        1        1           0   spring   Clear         9.84   \n",
       "2  2011-10-28   2        0        5           1   winter   Clear        13.12   \n",
       "3  2012-05-29  19        0        2           1   summer   Clear        31.98   \n",
       "4  2011-01-20   0        0        4           1   spring   Clear        10.66   \n",
       "\n",
       "   s_temp  humidity  winds  n_employee  exp_employee  \n",
       "0  34.850        27   13.0        2.67          1.14  \n",
       "1  11.365        41   15.0        2.67         20.00  \n",
       "2  15.150        66   19.0        2.00         28.86  \n",
       "3  35.605        52   24.0        2.00          2.29  \n",
       "4  11.365        56   26.0        3.00         16.43  "
      ]
     },
     "execution_count": 25,
     "metadata": {},
     "output_type": "execute_result"
    }
   ],
   "source": [
    "import pandas as pd\n",
    "data_pred = pd.read_csv('test_explanatory.csv')\n",
    "del data_pred['Unnamed: 0']\n",
    "data_pred.head(5)"
   ]
  },
  {
   "cell_type": "code",
   "execution_count": 26,
   "metadata": {},
   "outputs": [
    {
     "data": {
      "text/plain": [
       "6952"
      ]
     },
     "execution_count": 26,
     "metadata": {},
     "output_type": "execute_result"
    }
   ],
   "source": [
    "len(data_pred)"
   ]
  },
  {
   "cell_type": "code",
   "execution_count": 27,
   "metadata": {},
   "outputs": [],
   "source": [
    "#feature transformation\n",
    "#Transformation of date into ordinal values\n",
    "data_pred1 = data_pred.copy()\n",
    "data_pred1['date_ord'] = pd.to_datetime(data['dteday']).apply(lambda dteday: dteday.toordinal())\n",
    "#data_cor"
   ]
  },
  {
   "cell_type": "code",
   "execution_count": 28,
   "metadata": {},
   "outputs": [
    {
     "name": "stderr",
     "output_type": "stream",
     "text": [
      "C:\\Users\\xiaomi\\Anaconda3\\lib\\site-packages\\pandas\\core\\indexing.py:205: SettingWithCopyWarning: \n",
      "A value is trying to be set on a copy of a slice from a DataFrame\n",
      "\n",
      "See the caveats in the documentation: http://pandas.pydata.org/pandas-docs/stable/user_guide/indexing.html#returning-a-view-versus-a-copy\n",
      "  self._setitem_with_indexer(indexer, value)\n"
     ]
    }
   ],
   "source": [
    "#reducing weather\n",
    "data_pred1.weather.loc[(data_pred1.weather == 'Snow')] = 'Osadki'\n",
    "data_pred1.weather.loc[(data_pred1.weather == 'LightRain')] = 'Osadki'"
   ]
  },
  {
   "cell_type": "code",
   "execution_count": 29,
   "metadata": {},
   "outputs": [
    {
     "data": {
      "text/html": [
       "<div>\n",
       "<style scoped>\n",
       "    .dataframe tbody tr th:only-of-type {\n",
       "        vertical-align: middle;\n",
       "    }\n",
       "\n",
       "    .dataframe tbody tr th {\n",
       "        vertical-align: top;\n",
       "    }\n",
       "\n",
       "    .dataframe thead th {\n",
       "        text-align: right;\n",
       "    }\n",
       "</style>\n",
       "<table border=\"1\" class=\"dataframe\">\n",
       "  <thead>\n",
       "    <tr style=\"text-align: right;\">\n",
       "      <th></th>\n",
       "      <th>dteday</th>\n",
       "      <th>hr</th>\n",
       "      <th>holiday</th>\n",
       "      <th>weekday</th>\n",
       "      <th>workingday</th>\n",
       "      <th>season_t</th>\n",
       "      <th>weather</th>\n",
       "      <th>temperature</th>\n",
       "      <th>s_temp</th>\n",
       "      <th>humidity</th>\n",
       "      <th>winds</th>\n",
       "      <th>n_employee</th>\n",
       "      <th>exp_employee</th>\n",
       "      <th>date_ord</th>\n",
       "    </tr>\n",
       "  </thead>\n",
       "  <tbody>\n",
       "    <tr>\n",
       "      <td>0</td>\n",
       "      <td>2012-06-23</td>\n",
       "      <td>19</td>\n",
       "      <td>0</td>\n",
       "      <td>6</td>\n",
       "      <td>0</td>\n",
       "      <td>fall</td>\n",
       "      <td>Clear</td>\n",
       "      <td>32.80</td>\n",
       "      <td>34.850</td>\n",
       "      <td>27</td>\n",
       "      <td>13.0</td>\n",
       "      <td>2.67</td>\n",
       "      <td>1.14</td>\n",
       "      <td>734276</td>\n",
       "    </tr>\n",
       "    <tr>\n",
       "      <td>1</td>\n",
       "      <td>2012-01-02</td>\n",
       "      <td>20</td>\n",
       "      <td>1</td>\n",
       "      <td>1</td>\n",
       "      <td>0</td>\n",
       "      <td>spring</td>\n",
       "      <td>Clear</td>\n",
       "      <td>9.84</td>\n",
       "      <td>11.365</td>\n",
       "      <td>41</td>\n",
       "      <td>15.0</td>\n",
       "      <td>2.67</td>\n",
       "      <td>20.00</td>\n",
       "      <td>734734</td>\n",
       "    </tr>\n",
       "    <tr>\n",
       "      <td>2</td>\n",
       "      <td>2011-10-28</td>\n",
       "      <td>2</td>\n",
       "      <td>0</td>\n",
       "      <td>5</td>\n",
       "      <td>1</td>\n",
       "      <td>winter</td>\n",
       "      <td>Clear</td>\n",
       "      <td>13.12</td>\n",
       "      <td>15.150</td>\n",
       "      <td>66</td>\n",
       "      <td>19.0</td>\n",
       "      <td>2.00</td>\n",
       "      <td>28.86</td>\n",
       "      <td>734404</td>\n",
       "    </tr>\n",
       "    <tr>\n",
       "      <td>3</td>\n",
       "      <td>2012-05-29</td>\n",
       "      <td>19</td>\n",
       "      <td>0</td>\n",
       "      <td>2</td>\n",
       "      <td>1</td>\n",
       "      <td>summer</td>\n",
       "      <td>Clear</td>\n",
       "      <td>31.98</td>\n",
       "      <td>35.605</td>\n",
       "      <td>52</td>\n",
       "      <td>24.0</td>\n",
       "      <td>2.00</td>\n",
       "      <td>2.29</td>\n",
       "      <td>734812</td>\n",
       "    </tr>\n",
       "    <tr>\n",
       "      <td>4</td>\n",
       "      <td>2011-01-20</td>\n",
       "      <td>0</td>\n",
       "      <td>0</td>\n",
       "      <td>4</td>\n",
       "      <td>1</td>\n",
       "      <td>spring</td>\n",
       "      <td>Clear</td>\n",
       "      <td>10.66</td>\n",
       "      <td>11.365</td>\n",
       "      <td>56</td>\n",
       "      <td>26.0</td>\n",
       "      <td>3.00</td>\n",
       "      <td>16.43</td>\n",
       "      <td>734453</td>\n",
       "    </tr>\n",
       "  </tbody>\n",
       "</table>\n",
       "</div>"
      ],
      "text/plain": [
       "       dteday  hr  holiday  weekday  workingday season_t weather  temperature  \\\n",
       "0  2012-06-23  19        0        6           0     fall   Clear        32.80   \n",
       "1  2012-01-02  20        1        1           0   spring   Clear         9.84   \n",
       "2  2011-10-28   2        0        5           1   winter   Clear        13.12   \n",
       "3  2012-05-29  19        0        2           1   summer   Clear        31.98   \n",
       "4  2011-01-20   0        0        4           1   spring   Clear        10.66   \n",
       "\n",
       "   s_temp  humidity  winds  n_employee  exp_employee  date_ord  \n",
       "0  34.850        27   13.0        2.67          1.14    734276  \n",
       "1  11.365        41   15.0        2.67         20.00    734734  \n",
       "2  15.150        66   19.0        2.00         28.86    734404  \n",
       "3  35.605        52   24.0        2.00          2.29    734812  \n",
       "4  11.365        56   26.0        3.00         16.43    734453  "
      ]
     },
     "execution_count": 29,
     "metadata": {},
     "output_type": "execute_result"
    }
   ],
   "source": [
    "data_pred1.weather.unique()\n",
    "data_pred1.head()\n"
   ]
  },
  {
   "cell_type": "code",
   "execution_count": 30,
   "metadata": {},
   "outputs": [
    {
     "name": "stdout",
     "output_type": "stream",
     "text": [
      "(6952, 14)\n",
      "   weekday_0  weekday_1  weekday_2  weekday_3  weekday_4  weekday_5  \\\n",
      "0          0          0          0          0          0          0   \n",
      "1          0          1          0          0          0          0   \n",
      "2          0          0          0          0          0          1   \n",
      "3          0          0          1          0          0          0   \n",
      "4          0          0          0          0          1          0   \n",
      "\n",
      "   weekday_6  weather_Clear  weather_Cloudy  weather_Osadki  season_t_fall  \\\n",
      "0          1              1               0               0              1   \n",
      "1          0              1               0               0              0   \n",
      "2          0              1               0               0              0   \n",
      "3          0              1               0               0              0   \n",
      "4          0              1               0               0              0   \n",
      "\n",
      "   season_t_spring  season_t_summer  season_t_winter  \n",
      "0                0                0                0  \n",
      "1                1                0                0  \n",
      "2                0                0                1  \n",
      "3                0                1                0  \n",
      "4                1                0                0  \n"
     ]
    }
   ],
   "source": [
    "data_bin_concp = data_pred1[['weekday', 'weather','season_t']].copy()\n",
    "\n",
    "\n",
    "# Transformation to dummies - a lot of variables\n",
    "data_bin_pred = pd.get_dummies(data_bin_concp, columns=['weekday', 'weather', 'season_t'], \n",
    "                          prefix = ['weekday', 'weather', 'season_t'])\n",
    "print(data_bin_pred.shape)\n",
    "\n",
    "print(data_bin_pred.head())"
   ]
  },
  {
   "cell_type": "code",
   "execution_count": 31,
   "metadata": {},
   "outputs": [],
   "source": [
    "final_pred = pd.concat([data_bin_pred, data_pred1[['temperature', 'humidity', 'winds', 'date_ord', 'workingday', 'holiday', \n",
    "                                                  'hr']]], axis = 1)"
   ]
  },
  {
   "cell_type": "code",
   "execution_count": 32,
   "metadata": {},
   "outputs": [
    {
     "data": {
      "text/plain": [
       "6952"
      ]
     },
     "execution_count": 32,
     "metadata": {},
     "output_type": "execute_result"
    }
   ],
   "source": [
    "len(final_pred)"
   ]
  },
  {
   "cell_type": "markdown",
   "metadata": {},
   "source": [
    "## Model RF"
   ]
  },
  {
   "cell_type": "code",
   "execution_count": 33,
   "metadata": {},
   "outputs": [],
   "source": [
    "X_train1 = final.loc[:,['temperature', 'humidity', 'winds', 'date_ord', 'weekday_0', 'weekday_1', 'weekday_2', 'weekday_3', \n",
    "                     'weekday_4', 'weekday_5', 'weekday_6', 'weather_Clear', 'weather_Cloudy', 'weather_Osadki',\n",
    "                     'season_t_fall', 'season_t_spring', 'season_t_summer', 'season_t_winter', 'workingday', 'holiday',\n",
    "                     'hr']]\n",
    "y_train1 = final.loc[:,['occupancy']]"
   ]
  },
  {
   "cell_type": "code",
   "execution_count": 34,
   "metadata": {},
   "outputs": [
    {
     "data": {
      "text/plain": [
       "(10427, 21)"
      ]
     },
     "execution_count": 34,
     "metadata": {},
     "output_type": "execute_result"
    }
   ],
   "source": [
    "X_train1.shape"
   ]
  },
  {
   "cell_type": "code",
   "execution_count": 35,
   "metadata": {},
   "outputs": [
    {
     "data": {
      "text/plain": [
       "(7298, 21)"
      ]
     },
     "execution_count": 35,
     "metadata": {},
     "output_type": "execute_result"
    }
   ],
   "source": [
    "X_train.shape"
   ]
  },
  {
   "cell_type": "code",
   "execution_count": 36,
   "metadata": {},
   "outputs": [
    {
     "name": "stderr",
     "output_type": "stream",
     "text": [
      "C:\\Users\\xiaomi\\Anaconda3\\lib\\site-packages\\sklearn\\model_selection\\_validation.py:516: DataConversionWarning: A column-vector y was passed when a 1d array was expected. Please change the shape of y to (n_samples,), for example using ravel().\n",
      "  estimator.fit(X_train, y_train, **fit_params)\n",
      "C:\\Users\\xiaomi\\Anaconda3\\lib\\site-packages\\sklearn\\model_selection\\_validation.py:516: DataConversionWarning: A column-vector y was passed when a 1d array was expected. Please change the shape of y to (n_samples,), for example using ravel().\n",
      "  estimator.fit(X_train, y_train, **fit_params)\n",
      "C:\\Users\\xiaomi\\Anaconda3\\lib\\site-packages\\sklearn\\model_selection\\_validation.py:516: DataConversionWarning: A column-vector y was passed when a 1d array was expected. Please change the shape of y to (n_samples,), for example using ravel().\n",
      "  estimator.fit(X_train, y_train, **fit_params)\n",
      "C:\\Users\\xiaomi\\Anaconda3\\lib\\site-packages\\sklearn\\model_selection\\_validation.py:516: DataConversionWarning: A column-vector y was passed when a 1d array was expected. Please change the shape of y to (n_samples,), for example using ravel().\n",
      "  estimator.fit(X_train, y_train, **fit_params)\n",
      "C:\\Users\\xiaomi\\Anaconda3\\lib\\site-packages\\sklearn\\model_selection\\_validation.py:516: DataConversionWarning: A column-vector y was passed when a 1d array was expected. Please change the shape of y to (n_samples,), for example using ravel().\n",
      "  estimator.fit(X_train, y_train, **fit_params)\n",
      "C:\\Users\\xiaomi\\Anaconda3\\lib\\site-packages\\sklearn\\model_selection\\_validation.py:516: DataConversionWarning: A column-vector y was passed when a 1d array was expected. Please change the shape of y to (n_samples,), for example using ravel().\n",
      "  estimator.fit(X_train, y_train, **fit_params)\n",
      "C:\\Users\\xiaomi\\Anaconda3\\lib\\site-packages\\sklearn\\model_selection\\_validation.py:516: DataConversionWarning: A column-vector y was passed when a 1d array was expected. Please change the shape of y to (n_samples,), for example using ravel().\n",
      "  estimator.fit(X_train, y_train, **fit_params)\n",
      "C:\\Users\\xiaomi\\Anaconda3\\lib\\site-packages\\sklearn\\model_selection\\_validation.py:516: DataConversionWarning: A column-vector y was passed when a 1d array was expected. Please change the shape of y to (n_samples,), for example using ravel().\n",
      "  estimator.fit(X_train, y_train, **fit_params)\n",
      "C:\\Users\\xiaomi\\Anaconda3\\lib\\site-packages\\sklearn\\model_selection\\_validation.py:516: DataConversionWarning: A column-vector y was passed when a 1d array was expected. Please change the shape of y to (n_samples,), for example using ravel().\n",
      "  estimator.fit(X_train, y_train, **fit_params)\n",
      "C:\\Users\\xiaomi\\Anaconda3\\lib\\site-packages\\sklearn\\model_selection\\_validation.py:516: DataConversionWarning: A column-vector y was passed when a 1d array was expected. Please change the shape of y to (n_samples,), for example using ravel().\n",
      "  estimator.fit(X_train, y_train, **fit_params)\n",
      "C:\\Users\\xiaomi\\Anaconda3\\lib\\site-packages\\sklearn\\model_selection\\_validation.py:516: DataConversionWarning: A column-vector y was passed when a 1d array was expected. Please change the shape of y to (n_samples,), for example using ravel().\n",
      "  estimator.fit(X_train, y_train, **fit_params)\n",
      "C:\\Users\\xiaomi\\Anaconda3\\lib\\site-packages\\sklearn\\model_selection\\_validation.py:516: DataConversionWarning: A column-vector y was passed when a 1d array was expected. Please change the shape of y to (n_samples,), for example using ravel().\n",
      "  estimator.fit(X_train, y_train, **fit_params)\n",
      "C:\\Users\\xiaomi\\Anaconda3\\lib\\site-packages\\sklearn\\model_selection\\_search.py:715: DataConversionWarning: A column-vector y was passed when a 1d array was expected. Please change the shape of y to (n_samples,), for example using ravel().\n",
      "  self.best_estimator_.fit(X, y, **fit_params)\n"
     ]
    },
    {
     "name": "stdout",
     "output_type": "stream",
     "text": [
      "***GRIDSEARCH RESULTS***\n",
      "Best score: 0.923186 using {'criterion': 'mse', 'max_depth': 10, 'max_features': 'auto', 'min_samples_leaf': 1, 'min_samples_split': 2, 'n_estimators': 500, 'random_state': 42}\n",
      "0.923186 (0.004145) with: {'criterion': 'mse', 'max_depth': 10, 'max_features': 'auto', 'min_samples_leaf': 1, 'min_samples_split': 2, 'n_estimators': 500, 'random_state': 42}\n",
      "0.923160 (0.004378) with: {'criterion': 'mse', 'max_depth': 10, 'max_features': 'auto', 'min_samples_leaf': 1, 'min_samples_split': 2, 'n_estimators': 1000, 'random_state': 42}\n",
      "0.923023 (0.004352) with: {'criterion': 'mse', 'max_depth': 10, 'max_features': 'auto', 'min_samples_leaf': 2, 'min_samples_split': 2, 'n_estimators': 500, 'random_state': 42}\n",
      "0.923092 (0.004443) with: {'criterion': 'mse', 'max_depth': 10, 'max_features': 'auto', 'min_samples_leaf': 2, 'min_samples_split': 2, 'n_estimators': 1000, 'random_state': 42}\n"
     ]
    }
   ],
   "source": [
    "from sklearn.ensemble import RandomForestRegressor \n",
    "import numpy as np\n",
    "\n",
    "regressor = RandomForestRegressor()\n",
    "parameters = {\"n_estimators\":[500,1000], \"criterion\": ['mse'], 'min_samples_split': [2], 'max_depth': [10],\n",
    "              \"min_samples_leaf\": [1,2], \"random_state\" : [42], 'max_features': ['auto']}\n",
    "\n",
    "#DEFINE YOUR GRIDSEARCH \n",
    "from sklearn.model_selection import GridSearchCV\n",
    "gs = GridSearchCV(regressor, parameters, cv=3) #with no params it reduces to a CV\n",
    "\n",
    "gs = gs.fit(X_train1, y_train1)\n",
    "\n",
    "#summarize the results of your GRIDSEARCH\n",
    "print('***GRIDSEARCH RESULTS***')\n",
    "print(\"Best score: %f using %s\" % (gs.best_score_, gs.best_params_))\n",
    "means = gs.cv_results_['mean_test_score']\n",
    "stds = gs.cv_results_['std_test_score']\n",
    "params = gs.cv_results_['params']\n",
    "for mean, stdev, param in zip(means, stds, params):\n",
    "    print(\"%f (%f) with: %r\" % (mean, stdev, param))"
   ]
  },
  {
   "cell_type": "code",
   "execution_count": 37,
   "metadata": {},
   "outputs": [],
   "source": [
    "predicted_values = gs.predict(final_pred)"
   ]
  },
  {
   "cell_type": "code",
   "execution_count": 38,
   "metadata": {},
   "outputs": [],
   "source": [
    "dred_val2 = gs.predict(final_pred)"
   ]
  },
  {
   "cell_type": "code",
   "execution_count": null,
   "metadata": {},
   "outputs": [],
   "source": []
  },
  {
   "cell_type": "code",
   "execution_count": 39,
   "metadata": {},
   "outputs": [
    {
     "data": {
      "text/html": [
       "<div>\n",
       "<style scoped>\n",
       "    .dataframe tbody tr th:only-of-type {\n",
       "        vertical-align: middle;\n",
       "    }\n",
       "\n",
       "    .dataframe tbody tr th {\n",
       "        vertical-align: top;\n",
       "    }\n",
       "\n",
       "    .dataframe thead th {\n",
       "        text-align: right;\n",
       "    }\n",
       "</style>\n",
       "<table border=\"1\" class=\"dataframe\">\n",
       "  <thead>\n",
       "    <tr style=\"text-align: right;\">\n",
       "      <th></th>\n",
       "      <th>0</th>\n",
       "    </tr>\n",
       "  </thead>\n",
       "  <tbody>\n",
       "    <tr>\n",
       "      <td>count</td>\n",
       "      <td>6952.000000</td>\n",
       "    </tr>\n",
       "    <tr>\n",
       "      <td>mean</td>\n",
       "      <td>56.374335</td>\n",
       "    </tr>\n",
       "    <tr>\n",
       "      <td>std</td>\n",
       "      <td>42.294970</td>\n",
       "    </tr>\n",
       "    <tr>\n",
       "      <td>min</td>\n",
       "      <td>2.662690</td>\n",
       "    </tr>\n",
       "    <tr>\n",
       "      <td>25%</td>\n",
       "      <td>24.579524</td>\n",
       "    </tr>\n",
       "    <tr>\n",
       "      <td>50%</td>\n",
       "      <td>60.063459</td>\n",
       "    </tr>\n",
       "    <tr>\n",
       "      <td>75%</td>\n",
       "      <td>80.222564</td>\n",
       "    </tr>\n",
       "    <tr>\n",
       "      <td>max</td>\n",
       "      <td>157.012314</td>\n",
       "    </tr>\n",
       "  </tbody>\n",
       "</table>\n",
       "</div>"
      ],
      "text/plain": [
       "                 0\n",
       "count  6952.000000\n",
       "mean     56.374335\n",
       "std      42.294970\n",
       "min       2.662690\n",
       "25%      24.579524\n",
       "50%      60.063459\n",
       "75%      80.222564\n",
       "max     157.012314"
      ]
     },
     "execution_count": 39,
     "metadata": {},
     "output_type": "execute_result"
    }
   ],
   "source": [
    "pd.DataFrame(dred_val2).describe()"
   ]
  },
  {
   "cell_type": "code",
   "execution_count": null,
   "metadata": {},
   "outputs": [],
   "source": []
  },
  {
   "cell_type": "code",
   "execution_count": 173,
   "metadata": {},
   "outputs": [
    {
     "data": {
      "text/plain": [
       "<matplotlib.axes._subplots.AxesSubplot at 0x1edf2db8c48>"
      ]
     },
     "execution_count": 173,
     "metadata": {},
     "output_type": "execute_result"
    },
    {
     "data": {
      "image/png": "[encoded data removed]",
      "text/plain": [
       "<Figure size 432x288 with 1 Axes>"
      ]
     },
     "metadata": {
      "needs_background": "light"
     },
     "output_type": "display_data"
    }
   ],
   "source": [
    "pd.DataFrame(predicted_values).boxplot()"
   ]
  },
  {
   "cell_type": "code",
   "execution_count": 157,
   "metadata": {},
   "outputs": [
    {
     "data": {
      "text/plain": [
       "10427"
      ]
     },
     "execution_count": 157,
     "metadata": {},
     "output_type": "execute_result"
    }
   ],
   "source": [
    "len(predicted_values)"
   ]
  },
  {
   "cell_type": "code",
   "execution_count": 40,
   "metadata": {},
   "outputs": [],
   "source": [
    "#SAVE YOUR PREDICTION on a CSV file named with your StudentID\n",
    "df_predict_reg = pd.DataFrame(predicted_values, columns=[\"target\"])\n",
    "df_predict_reg.to_csv(\"931750.csv\", index = False)"
   ]
  },
  {
   "cell_type": "code",
   "execution_count": 41,
   "metadata": {},
   "outputs": [
    {
     "data": {
      "text/plain": [
       "count    10427.000000\n",
       "mean       191.480100\n",
       "std        183.072824\n",
       "min          1.000000\n",
       "25%         40.000000\n",
       "50%        145.000000\n",
       "75%        282.000000\n",
       "max        976.000000\n",
       "Name: occupancy, dtype: float64"
      ]
     },
     "execution_count": 41,
     "metadata": {},
     "output_type": "execute_result"
    }
   ],
   "source": [
    "final.occupancy.describe()"
   ]
  },
  {
   "cell_type": "code",
   "execution_count": 42,
   "metadata": {},
   "outputs": [
    {
     "data": {
      "text/html": [
       "<div>\n",
       "<style scoped>\n",
       "    .dataframe tbody tr th:only-of-type {\n",
       "        vertical-align: middle;\n",
       "    }\n",
       "\n",
       "    .dataframe tbody tr th {\n",
       "        vertical-align: top;\n",
       "    }\n",
       "\n",
       "    .dataframe thead th {\n",
       "        text-align: right;\n",
       "    }\n",
       "</style>\n",
       "<table border=\"1\" class=\"dataframe\">\n",
       "  <thead>\n",
       "    <tr style=\"text-align: right;\">\n",
       "      <th></th>\n",
       "      <th>0</th>\n",
       "    </tr>\n",
       "  </thead>\n",
       "  <tbody>\n",
       "    <tr>\n",
       "      <td>count</td>\n",
       "      <td>6952.000000</td>\n",
       "    </tr>\n",
       "    <tr>\n",
       "      <td>mean</td>\n",
       "      <td>56.374335</td>\n",
       "    </tr>\n",
       "    <tr>\n",
       "      <td>std</td>\n",
       "      <td>42.294970</td>\n",
       "    </tr>\n",
       "    <tr>\n",
       "      <td>min</td>\n",
       "      <td>2.662690</td>\n",
       "    </tr>\n",
       "    <tr>\n",
       "      <td>25%</td>\n",
       "      <td>24.579524</td>\n",
       "    </tr>\n",
       "    <tr>\n",
       "      <td>50%</td>\n",
       "      <td>60.063459</td>\n",
       "    </tr>\n",
       "    <tr>\n",
       "      <td>75%</td>\n",
       "      <td>80.222564</td>\n",
       "    </tr>\n",
       "    <tr>\n",
       "      <td>max</td>\n",
       "      <td>157.012314</td>\n",
       "    </tr>\n",
       "  </tbody>\n",
       "</table>\n",
       "</div>"
      ],
      "text/plain": [
       "                 0\n",
       "count  6952.000000\n",
       "mean     56.374335\n",
       "std      42.294970\n",
       "min       2.662690\n",
       "25%      24.579524\n",
       "50%      60.063459\n",
       "75%      80.222564\n",
       "max     157.012314"
      ]
     },
     "execution_count": 42,
     "metadata": {},
     "output_type": "execute_result"
    }
   ],
   "source": [
    "asdas = pd.DataFrame(predicted_values)\n",
    "asdas.describe()"
   ]
  },
  {
   "cell_type": "code",
   "execution_count": null,
   "metadata": {},
   "outputs": [],
   "source": []
  }
 ],
 "metadata": {
  "kernelspec": {
   "display_name": "Python 3",
   "language": "python",
   "name": "python3"
  },
  "language_info": {
   "codemirror_mode": {
    "name": "ipython",
    "version": 3
   },
   "file_extension": ".py",
   "mimetype": "text/x-python",
   "name": "python",
   "nbconvert_exporter": "python",
   "pygments_lexer": "ipython3",
   "version": "3.7.4"
  }
 },
 "nbformat": 4,
 "nbformat_minor": 2
}
